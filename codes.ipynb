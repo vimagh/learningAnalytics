{
 "cells": [
  {
   "cell_type": "code",
   "execution_count": 1,
   "metadata": {
    "executionInfo": {
     "elapsed": 4349,
     "status": "ok",
     "timestamp": 1747654643229,
     "user": {
      "displayName": "vimah solomon",
      "userId": "01562546007161635428"
     },
     "user_tz": -60
    },
    "id": "DjV3lsi5yMDo"
   },
   "outputs": [],
   "source": [
    "import numpy as np\n",
    "import pandas as pd\n",
    "import matplotlib.pyplot as plt\n",
    "import warnings\n",
    "warnings.filterwarnings('ignore')\n",
    "from sklearn.preprocessing import RobustScaler, MinMaxScaler, StandardScaler\n",
    "from sklearn.preprocessing import OneHotEncoder\n",
    "from sklearn.preprocessing import LabelEncoder\n",
    "from sklearn.model_selection import train_test_split\n",
    "from sklearn.linear_model import LogisticRegression\n",
    "from sklearn.model_selection import cross_val_score\n",
    "from sklearn.metrics import accuracy_score, precision_score, recall_score, f1_score, confusion_matrix\n",
    "from sklearn.metrics import confusion_matrix\n",
    "from sklearn.metrics import classification_report\n",
    "from sklearn.ensemble import RandomForestClassifier\n",
    "from sklearn.ensemble import GradientBoostingClassifier\n",
    "from sklearn.model_selection import cross_val_score"
   ]
  },
  {
   "cell_type": "code",
   "execution_count": 2,
   "metadata": {
    "executionInfo": {
     "elapsed": 26538,
     "status": "ok",
     "timestamp": 1747654669794,
     "user": {
      "displayName": "vimah solomon",
      "userId": "01562546007161635428"
     },
     "user_tz": -60
    },
    "id": "5qrMNZqoHk7u"
   },
   "outputs": [],
   "source": [
    "#Loading the datasets\n",
    "Courses = pd.read_csv('C:/Users/HSEF/Documents/Learning_analytics/courses.csv')\n",
    "Assessment = pd.read_csv('C:/Users/HSEF/Documents/Learning_analytics/assessments.csv')\n",
    "StudentAssessment = pd.read_csv('C:/Users/HSEF/Documents/Learning_analytics/studentAssessment.csv')\n",
    "StudentInfo = pd.read_csv('C:/Users/HSEF/Documents/Learning_analytics/studentInfo.csv')\n",
    "StudentRegistration = pd.read_csv('C:/Users/HSEF/Documents/Learning_analytics/studentRegistration.csv')\n",
    "vle = pd.read_csv('C:/Users/HSEF/Documents/Learning_analytics/vle.csv')\n",
    "StudentVle = pd.read_csv('C:/Users/HSEF/Documents/Learning_analytics/studentVle.csv')"
   ]
  },
  {
   "cell_type": "code",
   "execution_count": 3,
   "metadata": {
    "executionInfo": {
     "elapsed": 32,
     "status": "ok",
     "timestamp": 1747654669823,
     "user": {
      "displayName": "vimah solomon",
      "userId": "01562546007161635428"
     },
     "user_tz": -60
    },
    "id": "R7dkiGi5HyU0"
   },
   "outputs": [],
   "source": [
    "# Merging the data Student info, Student registration and Courses\n",
    "Personal_data = pd.merge(StudentRegistration, StudentInfo, on=['id_student', 'code_module', 'code_presentation'], how='inner')\n",
    "Personal_data = pd.merge(Personal_data, Courses, on=['code_module', 'code_presentation'], how='inner')"
   ]
  },
  {
   "cell_type": "code",
   "execution_count": 4,
   "metadata": {
    "colab": {
     "base_uri": "https://localhost:8080/",
     "height": 365
    },
    "executionInfo": {
     "elapsed": 386,
     "status": "ok",
     "timestamp": 1747654670212,
     "user": {
      "displayName": "vimah solomon",
      "userId": "01562546007161635428"
     },
     "user_tz": -60
    },
    "id": "a6gkrma5TQFC",
    "outputId": "495e7e56-313d-4077-849f-8eab4bde3923"
   },
   "outputs": [
    {
     "data": {
      "text/html": [
       "<div>\n",
       "<style scoped>\n",
       "    .dataframe tbody tr th:only-of-type {\n",
       "        vertical-align: middle;\n",
       "    }\n",
       "\n",
       "    .dataframe tbody tr th {\n",
       "        vertical-align: top;\n",
       "    }\n",
       "\n",
       "    .dataframe thead th {\n",
       "        text-align: right;\n",
       "    }\n",
       "</style>\n",
       "<table border=\"1\" class=\"dataframe\">\n",
       "  <thead>\n",
       "    <tr style=\"text-align: right;\">\n",
       "      <th></th>\n",
       "      <th>code_module</th>\n",
       "      <th>code_presentation</th>\n",
       "      <th>id_student</th>\n",
       "      <th>date_registration</th>\n",
       "      <th>date_unregistration</th>\n",
       "      <th>gender</th>\n",
       "      <th>region</th>\n",
       "      <th>highest_education</th>\n",
       "      <th>imd_band</th>\n",
       "      <th>age_band</th>\n",
       "      <th>num_of_prev_attempts</th>\n",
       "      <th>studied_credits</th>\n",
       "      <th>disability</th>\n",
       "      <th>final_result</th>\n",
       "      <th>module_presentation_length</th>\n",
       "    </tr>\n",
       "  </thead>\n",
       "  <tbody>\n",
       "    <tr>\n",
       "      <th>0</th>\n",
       "      <td>AAA</td>\n",
       "      <td>2013J</td>\n",
       "      <td>11391</td>\n",
       "      <td>-159.0</td>\n",
       "      <td>NaN</td>\n",
       "      <td>M</td>\n",
       "      <td>East Anglian Region</td>\n",
       "      <td>HE Qualification</td>\n",
       "      <td>90-100%</td>\n",
       "      <td>55&lt;=</td>\n",
       "      <td>0</td>\n",
       "      <td>240</td>\n",
       "      <td>N</td>\n",
       "      <td>Pass</td>\n",
       "      <td>268</td>\n",
       "    </tr>\n",
       "    <tr>\n",
       "      <th>1</th>\n",
       "      <td>AAA</td>\n",
       "      <td>2013J</td>\n",
       "      <td>28400</td>\n",
       "      <td>-53.0</td>\n",
       "      <td>NaN</td>\n",
       "      <td>F</td>\n",
       "      <td>Scotland</td>\n",
       "      <td>HE Qualification</td>\n",
       "      <td>20-30%</td>\n",
       "      <td>35-55</td>\n",
       "      <td>0</td>\n",
       "      <td>60</td>\n",
       "      <td>N</td>\n",
       "      <td>Pass</td>\n",
       "      <td>268</td>\n",
       "    </tr>\n",
       "    <tr>\n",
       "      <th>2</th>\n",
       "      <td>AAA</td>\n",
       "      <td>2013J</td>\n",
       "      <td>30268</td>\n",
       "      <td>-92.0</td>\n",
       "      <td>12.0</td>\n",
       "      <td>F</td>\n",
       "      <td>North Western Region</td>\n",
       "      <td>A Level or Equivalent</td>\n",
       "      <td>30-40%</td>\n",
       "      <td>35-55</td>\n",
       "      <td>0</td>\n",
       "      <td>60</td>\n",
       "      <td>Y</td>\n",
       "      <td>Withdrawn</td>\n",
       "      <td>268</td>\n",
       "    </tr>\n",
       "    <tr>\n",
       "      <th>3</th>\n",
       "      <td>AAA</td>\n",
       "      <td>2013J</td>\n",
       "      <td>31604</td>\n",
       "      <td>-52.0</td>\n",
       "      <td>NaN</td>\n",
       "      <td>F</td>\n",
       "      <td>South East Region</td>\n",
       "      <td>A Level or Equivalent</td>\n",
       "      <td>50-60%</td>\n",
       "      <td>35-55</td>\n",
       "      <td>0</td>\n",
       "      <td>60</td>\n",
       "      <td>N</td>\n",
       "      <td>Pass</td>\n",
       "      <td>268</td>\n",
       "    </tr>\n",
       "    <tr>\n",
       "      <th>4</th>\n",
       "      <td>AAA</td>\n",
       "      <td>2013J</td>\n",
       "      <td>32885</td>\n",
       "      <td>-176.0</td>\n",
       "      <td>NaN</td>\n",
       "      <td>F</td>\n",
       "      <td>West Midlands Region</td>\n",
       "      <td>Lower Than A Level</td>\n",
       "      <td>50-60%</td>\n",
       "      <td>0-35</td>\n",
       "      <td>0</td>\n",
       "      <td>60</td>\n",
       "      <td>N</td>\n",
       "      <td>Pass</td>\n",
       "      <td>268</td>\n",
       "    </tr>\n",
       "  </tbody>\n",
       "</table>\n",
       "</div>"
      ],
      "text/plain": [
       "  code_module code_presentation  id_student  date_registration  \\\n",
       "0         AAA             2013J       11391             -159.0   \n",
       "1         AAA             2013J       28400              -53.0   \n",
       "2         AAA             2013J       30268              -92.0   \n",
       "3         AAA             2013J       31604              -52.0   \n",
       "4         AAA             2013J       32885             -176.0   \n",
       "\n",
       "   date_unregistration gender                region      highest_education  \\\n",
       "0                  NaN      M   East Anglian Region       HE Qualification   \n",
       "1                  NaN      F              Scotland       HE Qualification   \n",
       "2                 12.0      F  North Western Region  A Level or Equivalent   \n",
       "3                  NaN      F     South East Region  A Level or Equivalent   \n",
       "4                  NaN      F  West Midlands Region     Lower Than A Level   \n",
       "\n",
       "  imd_band age_band  num_of_prev_attempts  studied_credits disability  \\\n",
       "0  90-100%     55<=                     0              240          N   \n",
       "1   20-30%    35-55                     0               60          N   \n",
       "2   30-40%    35-55                     0               60          Y   \n",
       "3   50-60%    35-55                     0               60          N   \n",
       "4   50-60%     0-35                     0               60          N   \n",
       "\n",
       "  final_result  module_presentation_length  \n",
       "0         Pass                         268  \n",
       "1         Pass                         268  \n",
       "2    Withdrawn                         268  \n",
       "3         Pass                         268  \n",
       "4         Pass                         268  "
      ]
     },
     "execution_count": 4,
     "metadata": {},
     "output_type": "execute_result"
    }
   ],
   "source": [
    "Personal_data.head()"
   ]
  },
  {
   "cell_type": "code",
   "execution_count": 5,
   "metadata": {
    "colab": {
     "base_uri": "https://localhost:8080/",
     "height": 206
    },
    "executionInfo": {
     "elapsed": 192,
     "status": "ok",
     "timestamp": 1747654670415,
     "user": {
      "displayName": "vimah solomon",
      "userId": "01562546007161635428"
     },
     "user_tz": -60
    },
    "id": "W04q0-N0W_PM",
    "outputId": "9f3974ad-7dc7-4615-cb8f-64efe68568a6"
   },
   "outputs": [
    {
     "data": {
      "text/html": [
       "<div>\n",
       "<style scoped>\n",
       "    .dataframe tbody tr th:only-of-type {\n",
       "        vertical-align: middle;\n",
       "    }\n",
       "\n",
       "    .dataframe tbody tr th {\n",
       "        vertical-align: top;\n",
       "    }\n",
       "\n",
       "    .dataframe thead th {\n",
       "        text-align: right;\n",
       "    }\n",
       "</style>\n",
       "<table border=\"1\" class=\"dataframe\">\n",
       "  <thead>\n",
       "    <tr style=\"text-align: right;\">\n",
       "      <th></th>\n",
       "      <th>code_module</th>\n",
       "      <th>code_presentation</th>\n",
       "      <th>id_assessment</th>\n",
       "      <th>assessment_type</th>\n",
       "      <th>date</th>\n",
       "      <th>weight</th>\n",
       "      <th>id_student</th>\n",
       "      <th>date_submitted</th>\n",
       "      <th>is_banked</th>\n",
       "      <th>score</th>\n",
       "    </tr>\n",
       "  </thead>\n",
       "  <tbody>\n",
       "    <tr>\n",
       "      <th>0</th>\n",
       "      <td>AAA</td>\n",
       "      <td>2013J</td>\n",
       "      <td>1752</td>\n",
       "      <td>TMA</td>\n",
       "      <td>19.0</td>\n",
       "      <td>10.0</td>\n",
       "      <td>11391</td>\n",
       "      <td>18</td>\n",
       "      <td>0</td>\n",
       "      <td>78.0</td>\n",
       "    </tr>\n",
       "    <tr>\n",
       "      <th>1</th>\n",
       "      <td>AAA</td>\n",
       "      <td>2013J</td>\n",
       "      <td>1752</td>\n",
       "      <td>TMA</td>\n",
       "      <td>19.0</td>\n",
       "      <td>10.0</td>\n",
       "      <td>28400</td>\n",
       "      <td>22</td>\n",
       "      <td>0</td>\n",
       "      <td>70.0</td>\n",
       "    </tr>\n",
       "    <tr>\n",
       "      <th>2</th>\n",
       "      <td>AAA</td>\n",
       "      <td>2013J</td>\n",
       "      <td>1752</td>\n",
       "      <td>TMA</td>\n",
       "      <td>19.0</td>\n",
       "      <td>10.0</td>\n",
       "      <td>31604</td>\n",
       "      <td>17</td>\n",
       "      <td>0</td>\n",
       "      <td>72.0</td>\n",
       "    </tr>\n",
       "    <tr>\n",
       "      <th>3</th>\n",
       "      <td>AAA</td>\n",
       "      <td>2013J</td>\n",
       "      <td>1752</td>\n",
       "      <td>TMA</td>\n",
       "      <td>19.0</td>\n",
       "      <td>10.0</td>\n",
       "      <td>32885</td>\n",
       "      <td>26</td>\n",
       "      <td>0</td>\n",
       "      <td>69.0</td>\n",
       "    </tr>\n",
       "    <tr>\n",
       "      <th>4</th>\n",
       "      <td>AAA</td>\n",
       "      <td>2013J</td>\n",
       "      <td>1752</td>\n",
       "      <td>TMA</td>\n",
       "      <td>19.0</td>\n",
       "      <td>10.0</td>\n",
       "      <td>38053</td>\n",
       "      <td>19</td>\n",
       "      <td>0</td>\n",
       "      <td>79.0</td>\n",
       "    </tr>\n",
       "  </tbody>\n",
       "</table>\n",
       "</div>"
      ],
      "text/plain": [
       "  code_module code_presentation  id_assessment assessment_type  date  weight  \\\n",
       "0         AAA             2013J           1752             TMA  19.0    10.0   \n",
       "1         AAA             2013J           1752             TMA  19.0    10.0   \n",
       "2         AAA             2013J           1752             TMA  19.0    10.0   \n",
       "3         AAA             2013J           1752             TMA  19.0    10.0   \n",
       "4         AAA             2013J           1752             TMA  19.0    10.0   \n",
       "\n",
       "   id_student  date_submitted  is_banked  score  \n",
       "0       11391              18          0   78.0  \n",
       "1       28400              22          0   70.0  \n",
       "2       31604              17          0   72.0  \n",
       "3       32885              26          0   69.0  \n",
       "4       38053              19          0   79.0  "
      ]
     },
     "execution_count": 5,
     "metadata": {},
     "output_type": "execute_result"
    }
   ],
   "source": [
    "# Merging Student assessment and assessment\n",
    "assesment_data = Assessment.merge(StudentAssessment,on=['id_assessment'],how=\"inner\")\n",
    "assesment_data.head()"
   ]
  },
  {
   "cell_type": "code",
   "execution_count": 6,
   "metadata": {
    "colab": {
     "base_uri": "https://localhost:8080/",
     "height": 377
    },
    "executionInfo": {
     "elapsed": 66,
     "status": "ok",
     "timestamp": 1747654670478,
     "user": {
      "displayName": "vimah solomon",
      "userId": "01562546007161635428"
     },
     "user_tz": -60
    },
    "id": "5_rGh4JDZIoc",
    "outputId": "d977b7ae-9f73-4654-eb03-9df790cfa3fb"
   },
   "outputs": [
    {
     "data": {
      "text/html": [
       "<div>\n",
       "<style scoped>\n",
       "    .dataframe tbody tr th:only-of-type {\n",
       "        vertical-align: middle;\n",
       "    }\n",
       "\n",
       "    .dataframe tbody tr th {\n",
       "        vertical-align: top;\n",
       "    }\n",
       "\n",
       "    .dataframe thead th {\n",
       "        text-align: right;\n",
       "    }\n",
       "</style>\n",
       "<table border=\"1\" class=\"dataframe\">\n",
       "  <thead>\n",
       "    <tr style=\"text-align: right;\">\n",
       "      <th></th>\n",
       "      <th>code_module</th>\n",
       "      <th>code_presentation</th>\n",
       "      <th>id_assessment</th>\n",
       "      <th>assessment_type</th>\n",
       "      <th>date</th>\n",
       "      <th>weight</th>\n",
       "      <th>id_student</th>\n",
       "      <th>date_submitted</th>\n",
       "      <th>is_banked</th>\n",
       "      <th>score</th>\n",
       "      <th>...</th>\n",
       "      <th>gender</th>\n",
       "      <th>region</th>\n",
       "      <th>highest_education</th>\n",
       "      <th>imd_band</th>\n",
       "      <th>age_band</th>\n",
       "      <th>num_of_prev_attempts</th>\n",
       "      <th>studied_credits</th>\n",
       "      <th>disability</th>\n",
       "      <th>final_result</th>\n",
       "      <th>module_presentation_length</th>\n",
       "    </tr>\n",
       "  </thead>\n",
       "  <tbody>\n",
       "    <tr>\n",
       "      <th>0</th>\n",
       "      <td>AAA</td>\n",
       "      <td>2013J</td>\n",
       "      <td>1752</td>\n",
       "      <td>TMA</td>\n",
       "      <td>19.0</td>\n",
       "      <td>10.0</td>\n",
       "      <td>11391</td>\n",
       "      <td>18</td>\n",
       "      <td>0</td>\n",
       "      <td>78.0</td>\n",
       "      <td>...</td>\n",
       "      <td>M</td>\n",
       "      <td>East Anglian Region</td>\n",
       "      <td>HE Qualification</td>\n",
       "      <td>90-100%</td>\n",
       "      <td>55&lt;=</td>\n",
       "      <td>0</td>\n",
       "      <td>240</td>\n",
       "      <td>N</td>\n",
       "      <td>Pass</td>\n",
       "      <td>268</td>\n",
       "    </tr>\n",
       "    <tr>\n",
       "      <th>1</th>\n",
       "      <td>AAA</td>\n",
       "      <td>2013J</td>\n",
       "      <td>1752</td>\n",
       "      <td>TMA</td>\n",
       "      <td>19.0</td>\n",
       "      <td>10.0</td>\n",
       "      <td>28400</td>\n",
       "      <td>22</td>\n",
       "      <td>0</td>\n",
       "      <td>70.0</td>\n",
       "      <td>...</td>\n",
       "      <td>F</td>\n",
       "      <td>Scotland</td>\n",
       "      <td>HE Qualification</td>\n",
       "      <td>20-30%</td>\n",
       "      <td>35-55</td>\n",
       "      <td>0</td>\n",
       "      <td>60</td>\n",
       "      <td>N</td>\n",
       "      <td>Pass</td>\n",
       "      <td>268</td>\n",
       "    </tr>\n",
       "    <tr>\n",
       "      <th>2</th>\n",
       "      <td>AAA</td>\n",
       "      <td>2013J</td>\n",
       "      <td>1752</td>\n",
       "      <td>TMA</td>\n",
       "      <td>19.0</td>\n",
       "      <td>10.0</td>\n",
       "      <td>31604</td>\n",
       "      <td>17</td>\n",
       "      <td>0</td>\n",
       "      <td>72.0</td>\n",
       "      <td>...</td>\n",
       "      <td>F</td>\n",
       "      <td>South East Region</td>\n",
       "      <td>A Level or Equivalent</td>\n",
       "      <td>50-60%</td>\n",
       "      <td>35-55</td>\n",
       "      <td>0</td>\n",
       "      <td>60</td>\n",
       "      <td>N</td>\n",
       "      <td>Pass</td>\n",
       "      <td>268</td>\n",
       "    </tr>\n",
       "    <tr>\n",
       "      <th>3</th>\n",
       "      <td>AAA</td>\n",
       "      <td>2013J</td>\n",
       "      <td>1752</td>\n",
       "      <td>TMA</td>\n",
       "      <td>19.0</td>\n",
       "      <td>10.0</td>\n",
       "      <td>32885</td>\n",
       "      <td>26</td>\n",
       "      <td>0</td>\n",
       "      <td>69.0</td>\n",
       "      <td>...</td>\n",
       "      <td>F</td>\n",
       "      <td>West Midlands Region</td>\n",
       "      <td>Lower Than A Level</td>\n",
       "      <td>50-60%</td>\n",
       "      <td>0-35</td>\n",
       "      <td>0</td>\n",
       "      <td>60</td>\n",
       "      <td>N</td>\n",
       "      <td>Pass</td>\n",
       "      <td>268</td>\n",
       "    </tr>\n",
       "    <tr>\n",
       "      <th>4</th>\n",
       "      <td>AAA</td>\n",
       "      <td>2013J</td>\n",
       "      <td>1752</td>\n",
       "      <td>TMA</td>\n",
       "      <td>19.0</td>\n",
       "      <td>10.0</td>\n",
       "      <td>38053</td>\n",
       "      <td>19</td>\n",
       "      <td>0</td>\n",
       "      <td>79.0</td>\n",
       "      <td>...</td>\n",
       "      <td>M</td>\n",
       "      <td>Wales</td>\n",
       "      <td>A Level or Equivalent</td>\n",
       "      <td>80-90%</td>\n",
       "      <td>35-55</td>\n",
       "      <td>0</td>\n",
       "      <td>60</td>\n",
       "      <td>N</td>\n",
       "      <td>Pass</td>\n",
       "      <td>268</td>\n",
       "    </tr>\n",
       "  </tbody>\n",
       "</table>\n",
       "<p>5 rows × 22 columns</p>\n",
       "</div>"
      ],
      "text/plain": [
       "  code_module code_presentation  id_assessment assessment_type  date  weight  \\\n",
       "0         AAA             2013J           1752             TMA  19.0    10.0   \n",
       "1         AAA             2013J           1752             TMA  19.0    10.0   \n",
       "2         AAA             2013J           1752             TMA  19.0    10.0   \n",
       "3         AAA             2013J           1752             TMA  19.0    10.0   \n",
       "4         AAA             2013J           1752             TMA  19.0    10.0   \n",
       "\n",
       "   id_student  date_submitted  is_banked  score  ...  gender  \\\n",
       "0       11391              18          0   78.0  ...       M   \n",
       "1       28400              22          0   70.0  ...       F   \n",
       "2       31604              17          0   72.0  ...       F   \n",
       "3       32885              26          0   69.0  ...       F   \n",
       "4       38053              19          0   79.0  ...       M   \n",
       "\n",
       "                 region      highest_education imd_band age_band  \\\n",
       "0   East Anglian Region       HE Qualification  90-100%     55<=   \n",
       "1              Scotland       HE Qualification   20-30%    35-55   \n",
       "2     South East Region  A Level or Equivalent   50-60%    35-55   \n",
       "3  West Midlands Region     Lower Than A Level   50-60%     0-35   \n",
       "4                 Wales  A Level or Equivalent   80-90%    35-55   \n",
       "\n",
       "  num_of_prev_attempts studied_credits  disability  final_result  \\\n",
       "0                    0             240           N          Pass   \n",
       "1                    0              60           N          Pass   \n",
       "2                    0              60           N          Pass   \n",
       "3                    0              60           N          Pass   \n",
       "4                    0              60           N          Pass   \n",
       "\n",
       "  module_presentation_length  \n",
       "0                        268  \n",
       "1                        268  \n",
       "2                        268  \n",
       "3                        268  \n",
       "4                        268  \n",
       "\n",
       "[5 rows x 22 columns]"
      ]
     },
     "execution_count": 6,
     "metadata": {},
     "output_type": "execute_result"
    }
   ],
   "source": [
    "data = assesment_data.merge(Personal_data,on=['code_module','code_presentation','id_student'],how=\"inner\")\n",
    "data.head()"
   ]
  },
  {
   "cell_type": "code",
   "execution_count": 7,
   "metadata": {
    "executionInfo": {
     "elapsed": 5,
     "status": "ok",
     "timestamp": 1747654670481,
     "user": {
      "displayName": "vimah solomon",
      "userId": "01562546007161635428"
     },
     "user_tz": -60
    },
    "id": "FUTLHBEZaR6_"
   },
   "outputs": [],
   "source": [
    "Data = data.copy()"
   ]
  },
  {
   "cell_type": "code",
   "execution_count": 8,
   "metadata": {
    "colab": {
     "base_uri": "https://localhost:8080/"
    },
    "executionInfo": {
     "elapsed": 13,
     "status": "ok",
     "timestamp": 1747654670496,
     "user": {
      "displayName": "vimah solomon",
      "userId": "01562546007161635428"
     },
     "user_tz": -60
    },
    "id": "PH7AL7DybGQa",
    "outputId": "f924cb72-4e56-403f-e40b-32637790f286"
   },
   "outputs": [
    {
     "name": "stdout",
     "output_type": "stream",
     "text": [
      "<class 'pandas.core.frame.DataFrame'>\n",
      "RangeIndex: 173912 entries, 0 to 173911\n",
      "Data columns (total 22 columns):\n",
      " #   Column                      Non-Null Count   Dtype  \n",
      "---  ------                      --------------   -----  \n",
      " 0   code_module                 173912 non-null  object \n",
      " 1   code_presentation           173912 non-null  object \n",
      " 2   id_assessment               173912 non-null  int64  \n",
      " 3   assessment_type             173912 non-null  object \n",
      " 4   date                        171047 non-null  float64\n",
      " 5   weight                      173912 non-null  float64\n",
      " 6   id_student                  173912 non-null  int64  \n",
      " 7   date_submitted              173912 non-null  int64  \n",
      " 8   is_banked                   173912 non-null  int64  \n",
      " 9   score                       173739 non-null  float64\n",
      " 10  date_registration           173905 non-null  float64\n",
      " 11  date_unregistration         13055 non-null   float64\n",
      " 12  gender                      173912 non-null  object \n",
      " 13  region                      173912 non-null  object \n",
      " 14  highest_education           173912 non-null  object \n",
      " 15  imd_band                    166215 non-null  object \n",
      " 16  age_band                    173912 non-null  object \n",
      " 17  num_of_prev_attempts        173912 non-null  int64  \n",
      " 18  studied_credits             173912 non-null  int64  \n",
      " 19  disability                  173912 non-null  object \n",
      " 20  final_result                173912 non-null  object \n",
      " 21  module_presentation_length  173912 non-null  int64  \n",
      "dtypes: float64(5), int64(7), object(10)\n",
      "memory usage: 29.2+ MB\n"
     ]
    }
   ],
   "source": [
    "Data.info()"
   ]
  },
  {
   "cell_type": "code",
   "execution_count": 9,
   "metadata": {
    "executionInfo": {
     "elapsed": 6,
     "status": "ok",
     "timestamp": 1747654670503,
     "user": {
      "displayName": "vimah solomon",
      "userId": "01562546007161635428"
     },
     "user_tz": -60
    },
    "id": "B-sgHTSGdX6_"
   },
   "outputs": [],
   "source": [
    "# Filling nulls with 0\n",
    "Data[\"score\"] = Data[\"score\"].fillna(0)"
   ]
  },
  {
   "cell_type": "code",
   "execution_count": 10,
   "metadata": {
    "executionInfo": {
     "elapsed": 19,
     "status": "ok",
     "timestamp": 1747654670525,
     "user": {
      "displayName": "vimah solomon",
      "userId": "01562546007161635428"
     },
     "user_tz": -60
    },
    "id": "T2KXNeuUfK1W"
   },
   "outputs": [],
   "source": [
    "# Dropping Date unregistered column due to too many nulls\n",
    "Data.drop(['date_unregistration'],axis=1,inplace=True)"
   ]
  },
  {
   "cell_type": "code",
   "execution_count": 11,
   "metadata": {
    "colab": {
     "base_uri": "https://localhost:8080/",
     "height": 742
    },
    "executionInfo": {
     "elapsed": 11,
     "status": "ok",
     "timestamp": 1747654670538,
     "user": {
      "displayName": "vimah solomon",
      "userId": "01562546007161635428"
     },
     "user_tz": -60
    },
    "id": "y5yawZ62ex-z",
    "outputId": "1d0202fd-a8d9-4f6c-d55d-73cf0827969b"
   },
   "outputs": [
    {
     "data": {
      "text/plain": [
       "code_module                      0\n",
       "code_presentation                0\n",
       "id_assessment                    0\n",
       "assessment_type                  0\n",
       "date                          2865\n",
       "weight                           0\n",
       "id_student                       0\n",
       "date_submitted                   0\n",
       "is_banked                        0\n",
       "score                            0\n",
       "date_registration                7\n",
       "gender                           0\n",
       "region                           0\n",
       "highest_education                0\n",
       "imd_band                      7697\n",
       "age_band                         0\n",
       "num_of_prev_attempts             0\n",
       "studied_credits                  0\n",
       "disability                       0\n",
       "final_result                     0\n",
       "module_presentation_length       0\n",
       "dtype: int64"
      ]
     },
     "execution_count": 11,
     "metadata": {},
     "output_type": "execute_result"
    }
   ],
   "source": [
    "Data.isna().sum()"
   ]
  },
  {
   "cell_type": "code",
   "execution_count": 12,
   "metadata": {
    "executionInfo": {
     "elapsed": 71,
     "status": "ok",
     "timestamp": 1747654670612,
     "user": {
      "displayName": "vimah solomon",
      "userId": "01562546007161635428"
     },
     "user_tz": -60
    },
    "id": "pvaSuiJfmOGZ"
   },
   "outputs": [],
   "source": [
    "# Creating the Week column to represent assessment adherence\n",
    "Data['week'] = np.where(\n",
    "    Data['date_submitted'] > Data['module_presentation_length'],\n",
    "    (Data['module_presentation_length'] // 7) + 1,\n",
    "    np.where(\n",
    "        Data['date_submitted'] < 0,\n",
    "        0,\n",
    "        Data['date_submitted'] // 7 + 1\n",
    "    )\n",
    ")"
   ]
  },
  {
   "cell_type": "code",
   "execution_count": 13,
   "metadata": {
    "executionInfo": {
     "elapsed": 4113,
     "status": "ok",
     "timestamp": 1747654674727,
     "user": {
      "displayName": "vimah solomon",
      "userId": "01562546007161635428"
     },
     "user_tz": -60
    },
    "id": "pjCig9ZgstP0"
   },
   "outputs": [],
   "source": [
    "# Merging vle and student vle\n",
    "StudentVle['week'] = StudentVle['date'].apply(lambda x: 0 if x < 0 else (x // 7) + 1)"
   ]
  },
  {
   "cell_type": "code",
   "execution_count": 14,
   "metadata": {
    "executionInfo": {
     "elapsed": 4287,
     "status": "ok",
     "timestamp": 1747654679011,
     "user": {
      "displayName": "vimah solomon",
      "userId": "01562546007161635428"
     },
     "user_tz": -60
    },
    "id": "WEgRyPHFuZ2a"
   },
   "outputs": [],
   "source": [
    "student_interaction = StudentVle.merge(vle,on=['code_module','code_presentation','id_site'],how=\"inner\")"
   ]
  },
  {
   "cell_type": "code",
   "execution_count": 15,
   "metadata": {
    "executionInfo": {
     "elapsed": 6154,
     "status": "ok",
     "timestamp": 1747654685163,
     "user": {
      "displayName": "vimah solomon",
      "userId": "01562546007161635428"
     },
     "user_tz": -60
    },
    "id": "F1Aa6D7Qy3K0"
   },
   "outputs": [],
   "source": [
    "# Getting a column for total clicks and Interaction counts\n",
    "grouped_student_interaction = student_interaction.groupby(\n",
    "    ['id_student', 'code_module', 'code_presentation','activity_type', 'week'], as_index=False\n",
    ").agg(\n",
    "    total_clicks=('sum_click', 'sum'),\n",
    "    interaction_count=('sum_click', 'count')\n",
    ")"
   ]
  },
  {
   "cell_type": "code",
   "execution_count": 16,
   "metadata": {
    "executionInfo": {
     "elapsed": 954,
     "status": "ok",
     "timestamp": 1747654686120,
     "user": {
      "displayName": "vimah solomon",
      "userId": "01562546007161635428"
     },
     "user_tz": -60
    },
    "id": "HfxAZB2Ezqgx"
   },
   "outputs": [],
   "source": [
    "# Merging the grouped data with the older merged data\n",
    "merged_dataset = pd.merge(\n",
    "    grouped_student_interaction,\n",
    "    Data,\n",
    "    on=['id_student', 'code_presentation', 'code_module', 'week'],\n",
    "    how='inner'\n",
    ")"
   ]
  },
  {
   "cell_type": "code",
   "execution_count": 17,
   "metadata": {
    "colab": {
     "base_uri": "https://localhost:8080/",
     "height": 255
    },
    "executionInfo": {
     "elapsed": 31,
     "status": "ok",
     "timestamp": 1747654686169,
     "user": {
      "displayName": "vimah solomon",
      "userId": "01562546007161635428"
     },
     "user_tz": -60
    },
    "id": "f6RI9V5JvYc7",
    "outputId": "c7190e23-0dd6-47ab-be82-c3aadce7e507"
   },
   "outputs": [
    {
     "data": {
      "text/html": [
       "<div>\n",
       "<style scoped>\n",
       "    .dataframe tbody tr th:only-of-type {\n",
       "        vertical-align: middle;\n",
       "    }\n",
       "\n",
       "    .dataframe tbody tr th {\n",
       "        vertical-align: top;\n",
       "    }\n",
       "\n",
       "    .dataframe thead th {\n",
       "        text-align: right;\n",
       "    }\n",
       "</style>\n",
       "<table border=\"1\" class=\"dataframe\">\n",
       "  <thead>\n",
       "    <tr style=\"text-align: right;\">\n",
       "      <th></th>\n",
       "      <th>id_student</th>\n",
       "      <th>code_module</th>\n",
       "      <th>code_presentation</th>\n",
       "      <th>activity_type</th>\n",
       "      <th>week</th>\n",
       "      <th>total_clicks</th>\n",
       "      <th>interaction_count</th>\n",
       "      <th>id_assessment</th>\n",
       "      <th>assessment_type</th>\n",
       "      <th>date</th>\n",
       "      <th>...</th>\n",
       "      <th>gender</th>\n",
       "      <th>region</th>\n",
       "      <th>highest_education</th>\n",
       "      <th>imd_band</th>\n",
       "      <th>age_band</th>\n",
       "      <th>num_of_prev_attempts</th>\n",
       "      <th>studied_credits</th>\n",
       "      <th>disability</th>\n",
       "      <th>final_result</th>\n",
       "      <th>module_presentation_length</th>\n",
       "    </tr>\n",
       "  </thead>\n",
       "  <tbody>\n",
       "    <tr>\n",
       "      <th>0</th>\n",
       "      <td>6516</td>\n",
       "      <td>AAA</td>\n",
       "      <td>2014J</td>\n",
       "      <td>forumng</td>\n",
       "      <td>3</td>\n",
       "      <td>12</td>\n",
       "      <td>6</td>\n",
       "      <td>1758</td>\n",
       "      <td>TMA</td>\n",
       "      <td>19.0</td>\n",
       "      <td>...</td>\n",
       "      <td>M</td>\n",
       "      <td>Scotland</td>\n",
       "      <td>HE Qualification</td>\n",
       "      <td>80-90%</td>\n",
       "      <td>55&lt;=</td>\n",
       "      <td>0</td>\n",
       "      <td>60</td>\n",
       "      <td>N</td>\n",
       "      <td>Pass</td>\n",
       "      <td>269</td>\n",
       "    </tr>\n",
       "    <tr>\n",
       "      <th>1</th>\n",
       "      <td>6516</td>\n",
       "      <td>AAA</td>\n",
       "      <td>2014J</td>\n",
       "      <td>forumng</td>\n",
       "      <td>8</td>\n",
       "      <td>31</td>\n",
       "      <td>13</td>\n",
       "      <td>1759</td>\n",
       "      <td>TMA</td>\n",
       "      <td>54.0</td>\n",
       "      <td>...</td>\n",
       "      <td>M</td>\n",
       "      <td>Scotland</td>\n",
       "      <td>HE Qualification</td>\n",
       "      <td>80-90%</td>\n",
       "      <td>55&lt;=</td>\n",
       "      <td>0</td>\n",
       "      <td>60</td>\n",
       "      <td>N</td>\n",
       "      <td>Pass</td>\n",
       "      <td>269</td>\n",
       "    </tr>\n",
       "    <tr>\n",
       "      <th>2</th>\n",
       "      <td>6516</td>\n",
       "      <td>AAA</td>\n",
       "      <td>2014J</td>\n",
       "      <td>forumng</td>\n",
       "      <td>17</td>\n",
       "      <td>11</td>\n",
       "      <td>10</td>\n",
       "      <td>1760</td>\n",
       "      <td>TMA</td>\n",
       "      <td>117.0</td>\n",
       "      <td>...</td>\n",
       "      <td>M</td>\n",
       "      <td>Scotland</td>\n",
       "      <td>HE Qualification</td>\n",
       "      <td>80-90%</td>\n",
       "      <td>55&lt;=</td>\n",
       "      <td>0</td>\n",
       "      <td>60</td>\n",
       "      <td>N</td>\n",
       "      <td>Pass</td>\n",
       "      <td>269</td>\n",
       "    </tr>\n",
       "    <tr>\n",
       "      <th>3</th>\n",
       "      <td>6516</td>\n",
       "      <td>AAA</td>\n",
       "      <td>2014J</td>\n",
       "      <td>forumng</td>\n",
       "      <td>24</td>\n",
       "      <td>4</td>\n",
       "      <td>2</td>\n",
       "      <td>1761</td>\n",
       "      <td>TMA</td>\n",
       "      <td>166.0</td>\n",
       "      <td>...</td>\n",
       "      <td>M</td>\n",
       "      <td>Scotland</td>\n",
       "      <td>HE Qualification</td>\n",
       "      <td>80-90%</td>\n",
       "      <td>55&lt;=</td>\n",
       "      <td>0</td>\n",
       "      <td>60</td>\n",
       "      <td>N</td>\n",
       "      <td>Pass</td>\n",
       "      <td>269</td>\n",
       "    </tr>\n",
       "    <tr>\n",
       "      <th>4</th>\n",
       "      <td>6516</td>\n",
       "      <td>AAA</td>\n",
       "      <td>2014J</td>\n",
       "      <td>forumng</td>\n",
       "      <td>31</td>\n",
       "      <td>9</td>\n",
       "      <td>2</td>\n",
       "      <td>1762</td>\n",
       "      <td>TMA</td>\n",
       "      <td>215.0</td>\n",
       "      <td>...</td>\n",
       "      <td>M</td>\n",
       "      <td>Scotland</td>\n",
       "      <td>HE Qualification</td>\n",
       "      <td>80-90%</td>\n",
       "      <td>55&lt;=</td>\n",
       "      <td>0</td>\n",
       "      <td>60</td>\n",
       "      <td>N</td>\n",
       "      <td>Pass</td>\n",
       "      <td>269</td>\n",
       "    </tr>\n",
       "  </tbody>\n",
       "</table>\n",
       "<p>5 rows × 25 columns</p>\n",
       "</div>"
      ],
      "text/plain": [
       "   id_student code_module code_presentation activity_type  week  total_clicks  \\\n",
       "0        6516         AAA             2014J       forumng     3            12   \n",
       "1        6516         AAA             2014J       forumng     8            31   \n",
       "2        6516         AAA             2014J       forumng    17            11   \n",
       "3        6516         AAA             2014J       forumng    24             4   \n",
       "4        6516         AAA             2014J       forumng    31             9   \n",
       "\n",
       "   interaction_count  id_assessment assessment_type   date  ...  gender  \\\n",
       "0                  6           1758             TMA   19.0  ...       M   \n",
       "1                 13           1759             TMA   54.0  ...       M   \n",
       "2                 10           1760             TMA  117.0  ...       M   \n",
       "3                  2           1761             TMA  166.0  ...       M   \n",
       "4                  2           1762             TMA  215.0  ...       M   \n",
       "\n",
       "     region  highest_education  imd_band  age_band num_of_prev_attempts  \\\n",
       "0  Scotland   HE Qualification    80-90%      55<=                    0   \n",
       "1  Scotland   HE Qualification    80-90%      55<=                    0   \n",
       "2  Scotland   HE Qualification    80-90%      55<=                    0   \n",
       "3  Scotland   HE Qualification    80-90%      55<=                    0   \n",
       "4  Scotland   HE Qualification    80-90%      55<=                    0   \n",
       "\n",
       "  studied_credits disability final_result module_presentation_length  \n",
       "0              60          N         Pass                        269  \n",
       "1              60          N         Pass                        269  \n",
       "2              60          N         Pass                        269  \n",
       "3              60          N         Pass                        269  \n",
       "4              60          N         Pass                        269  \n",
       "\n",
       "[5 rows x 25 columns]"
      ]
     },
     "execution_count": 17,
     "metadata": {},
     "output_type": "execute_result"
    }
   ],
   "source": [
    "merged_dataset.head()"
   ]
  },
  {
   "cell_type": "code",
   "execution_count": 18,
   "metadata": {
    "executionInfo": {
     "elapsed": 119,
     "status": "ok",
     "timestamp": 1747654686290,
     "user": {
      "displayName": "vimah solomon",
      "userId": "01562546007161635428"
     },
     "user_tz": -60
    },
    "id": "_3mEOdB4x2Zy"
   },
   "outputs": [],
   "source": [
    "# Renaming categories in the highest_education column\n",
    "merged_dataset['highest_education'] = np.where( (merged_dataset['highest_education'] == 'No Formal quals'),'Lower Than A Level',merged_dataset['highest_education'])\n",
    "\n",
    "# Rename post-grads\n",
    "merged_dataset['highest_education'] = np.where( (merged_dataset['highest_education'] == 'Post Graduate Qualification'),'HE Qualification',merged_dataset['highest_education'])"
   ]
  },
  {
   "cell_type": "code",
   "execution_count": 19,
   "metadata": {
    "executionInfo": {
     "elapsed": 195,
     "status": "ok",
     "timestamp": 1747654686487,
     "user": {
      "displayName": "vimah solomon",
      "userId": "01562546007161635428"
     },
     "user_tz": -60
    },
    "id": "SHqgkVDIzgQn"
   },
   "outputs": [],
   "source": [
    "# Normalizing the age column\n",
    "merged_dataset['age_band'] = np.where( (merged_dataset['age_band'] == '55<='), '35+', merged_dataset['age_band'])\n",
    "\n",
    "merged_dataset['age_band'] = np.where( (merged_dataset['age_band'] == '35-55'),'35+',merged_dataset['age_band'])"
   ]
  },
  {
   "cell_type": "code",
   "execution_count": 20,
   "metadata": {
    "executionInfo": {
     "elapsed": 22,
     "status": "ok",
     "timestamp": 1747654686509,
     "user": {
      "displayName": "vimah solomon",
      "userId": "01562546007161635428"
     },
     "user_tz": -60
    },
    "id": "SdXx4rNQ08W9"
   },
   "outputs": [],
   "source": [
    "# creating the assessment engagement colum and the module engagement column\n",
    "merged_dataset['assessment_engagement_score'] = merged_dataset['total_clicks'] * merged_dataset['interaction_count']\n",
    "merged_dataset['submission_timeliness'] = merged_dataset['date_submitted'] - merged_dataset['date']\n",
    "merged_dataset['module_engagement_rate'] = merged_dataset['total_clicks'] / merged_dataset['module_presentation_length']"
   ]
  },
  {
   "cell_type": "code",
   "execution_count": 21,
   "metadata": {
    "colab": {
     "base_uri": "https://localhost:8080/",
     "height": 675
    },
    "executionInfo": {
     "elapsed": 279,
     "status": "ok",
     "timestamp": 1747654686790,
     "user": {
      "displayName": "vimah solomon",
      "userId": "01562546007161635428"
     },
     "user_tz": -60
    },
    "id": "0DJDVHOS7BP0",
    "outputId": "f06bd2ed-3aeb-4273-d6df-db3bd4605384"
   },
   "outputs": [
    {
     "data": {
      "image/png": "[encoded data removed]",
      "text/plain": [
       "<Figure size 800x800 with 1 Axes>"
      ]
     },
     "metadata": {},
     "output_type": "display_data"
    }
   ],
   "source": [
    "# prompt: generate a pie chart showing the percentage of males and females\n",
    "\n",
    "import matplotlib.pyplot as plt\n",
    "gender_counts = merged_dataset['gender'].value_counts()\n",
    "\n",
    "plt.figure(figsize=(8, 8))\n",
    "plt.pie(gender_counts, labels=gender_counts.index, autopct='%1.1f%%', startangle=140)\n",
    "plt.title('Percentage of Males and Females')\n",
    "plt.axis('equal')  # Equal aspect ratio ensures that pie is drawn as a circle.\n",
    "plt.show()"
   ]
  },
  {
   "cell_type": "code",
   "execution_count": 22,
   "metadata": {
    "colab": {
     "base_uri": "https://localhost:8080/",
     "height": 681
    },
    "executionInfo": {
     "elapsed": 160,
     "status": "ok",
     "timestamp": 1747654686947,
     "user": {
      "displayName": "vimah solomon",
      "userId": "01562546007161635428"
     },
     "user_tz": -60
    },
    "id": "f_MieTuBIsmi",
    "outputId": "4eb846a4-35ad-4157-a557-1d2b1be9cdca"
   },
   "outputs": [
    {
     "data": {
      "image/png": "[encoded data removed]",
      "text/plain": [
       "<Figure size 800x800 with 1 Axes>"
      ]
     },
     "metadata": {},
     "output_type": "display_data"
    }
   ],
   "source": [
    "# prompt: generate a pie chart to show age distribution in percentage.\n",
    "\n",
    "import matplotlib.pyplot as plt\n",
    "age_band_counts = merged_dataset['age_band'].value_counts()\n",
    "plt.figure(figsize=(8, 8))\n",
    "plt.pie(age_band_counts, labels=age_band_counts.index, autopct='%1.1f%%', startangle=140)\n",
    "plt.title('Percentage of Age Distribution')\n",
    "plt.axis('equal')\n",
    "plt.show()"
   ]
  },
  {
   "cell_type": "code",
   "execution_count": 23,
   "metadata": {
    "colab": {
     "base_uri": "https://localhost:8080/",
     "height": 675
    },
    "executionInfo": {
     "elapsed": 144,
     "status": "ok",
     "timestamp": 1747654687089,
     "user": {
      "displayName": "vimah solomon",
      "userId": "01562546007161635428"
     },
     "user_tz": -60
    },
    "id": "r7ZzzO4sNnMT",
    "outputId": "b8c27221-d6fe-419c-ff35-bc689f455802"
   },
   "outputs": [
    {
     "data": {
      "image/png": "[encoded data removed]",
      "text/plain": [
       "<Figure size 800x800 with 1 Axes>"
      ]
     },
     "metadata": {},
     "output_type": "display_data"
    }
   ],
   "source": [
    "# prompt: generate a pie chart for disability\n",
    "\n",
    "import matplotlib.pyplot as plt\n",
    "disability_counts = merged_dataset['disability'].value_counts()\n",
    "plt.figure(figsize=(8, 8))\n",
    "plt.pie(disability_counts, labels=disability_counts.index, autopct='%1.1f%%', startangle=140)\n",
    "plt.title('Percentage of Students with and without Disability')\n",
    "plt.axis('equal')\n",
    "plt.show()"
   ]
  },
  {
   "cell_type": "code",
   "execution_count": 24,
   "metadata": {
    "colab": {
     "base_uri": "https://localhost:8080/",
     "height": 675
    },
    "executionInfo": {
     "elapsed": 144,
     "status": "ok",
     "timestamp": 1747654687234,
     "user": {
      "displayName": "vimah solomon",
      "userId": "01562546007161635428"
     },
     "user_tz": -60
    },
    "id": "ILZaZLgMN88i",
    "outputId": "5c118854-6c07-4276-d468-7e5df4b64d17"
   },
   "outputs": [
    {
     "data": {
      "image/png": "[encoded data removed]",
      "text/plain": [
       "<Figure size 800x800 with 1 Axes>"
      ]
     },
     "metadata": {},
     "output_type": "display_data"
    }
   ],
   "source": [
    "# prompt: Generate a pie chart to show educational level\n",
    "\n",
    "import matplotlib.pyplot as plt\n",
    "highest_education_counts = merged_dataset['highest_education'].value_counts()\n",
    "plt.figure(figsize=(8, 8))\n",
    "plt.pie(highest_education_counts, labels=highest_education_counts.index, autopct='%1.1f%%', startangle=140)\n",
    "plt.title('Percentage of Students by Highest Education Level')\n",
    "plt.axis('equal')\n",
    "plt.show()"
   ]
  },
  {
   "cell_type": "code",
   "execution_count": 25,
   "metadata": {
    "executionInfo": {
     "elapsed": 299,
     "status": "ok",
     "timestamp": 1747654687524,
     "user": {
      "displayName": "vimah solomon",
      "userId": "01562546007161635428"
     },
     "user_tz": -60
    },
    "id": "2PVsjUyK_SEp"
   },
   "outputs": [],
   "source": [
    "merge_new = merged_dataset.copy()"
   ]
  },
  {
   "cell_type": "code",
   "execution_count": 26,
   "metadata": {
    "executionInfo": {
     "elapsed": 8,
     "status": "ok",
     "timestamp": 1747654687534,
     "user": {
      "displayName": "vimah solomon",
      "userId": "01562546007161635428"
     },
     "user_tz": -60
    },
    "id": "XXhVQLq4-dzM"
   },
   "outputs": [],
   "source": [
    "summary_columns = {\n",
    "    # 'activity_type': lambda x: x.mode()[0] if not x.mode().empty else np.nan, # Handle empty mode results\n",
    "    'total_clicks': 'sum',\n",
    "    'interaction_count': 'sum',\n",
    "    'assessment_type': lambda x: x.mode()[0] if not x.mode().empty else np.nan, # Handle empty mode results\n",
    "    'date': 'mean',\n",
    "    'weight': 'mean',\n",
    "    'date_submitted': 'mean',\n",
    "    'is_banked': lambda x: x.mode()[0] if not x.mode().empty else np.nan, # Handle empty mode results\n",
    "    'score': 'mean',\n",
    "    'date_registration': 'mean',\n",
    "    'gender': lambda x: x.mode()[0] if not x.mode().empty else np.nan, # Handle empty mode results\n",
    "    'region': lambda x: x.mode()[0] if not x.mode().empty else np.nan, # Handle empty mode results\n",
    "    'highest_education': lambda x: x.mode()[0] if not x.mode().empty else np.nan, # Handle empty mode results\n",
    "    'imd_band': lambda x: x.mode()[0] if not x.mode().empty else np.nan, # Handle empty mode results\n",
    "    'age_band': lambda x: x.mode()[0] if not x.mode().empty else np.nan, # Handle empty mode results\n",
    "    'num_of_prev_attempts': 'mean',\n",
    "    'studied_credits': 'mean',\n",
    "    'disability': lambda x: x.mode()[0] if not x.mode().empty else np.nan, # Handle empty mode results\n",
    "    'module_presentation_length': 'mean',\n",
    "    'assessment_engagement_score': 'mean',\n",
    "    'submission_timeliness': 'mean',\n",
    "    'module_engagement_rate': 'mean',\n",
    "\n",
    "}\n"
   ]
  },
  {
   "cell_type": "code",
   "execution_count": 27,
   "metadata": {
    "executionInfo": {
     "elapsed": 283964,
     "status": "ok",
     "timestamp": 1747654971505,
     "user": {
      "displayName": "vimah solomon",
      "userId": "01562546007161635428"
     },
     "user_tz": -60
    },
    "id": "wVWHOp89DI5N"
   },
   "outputs": [],
   "source": [
    "summary_df = merge_new.groupby(['id_student', 'week', 'code_module', 'final_result']).agg(summary_columns).reset_index()"
   ]
  },
  {
   "cell_type": "code",
   "execution_count": 28,
   "metadata": {
    "colab": {
     "base_uri": "https://localhost:8080/"
    },
    "executionInfo": {
     "elapsed": 63,
     "status": "ok",
     "timestamp": 1747654971552,
     "user": {
      "displayName": "vimah solomon",
      "userId": "01562546007161635428"
     },
     "user_tz": -60
    },
    "id": "aAekTuQrXubo",
    "outputId": "12e4defd-b122-41a9-bb6c-d2af000b64d2"
   },
   "outputs": [
    {
     "name": "stdout",
     "output_type": "stream",
     "text": [
      "<class 'pandas.core.frame.DataFrame'>\n",
      "RangeIndex: 139014 entries, 0 to 139013\n",
      "Data columns (total 25 columns):\n",
      " #   Column                       Non-Null Count   Dtype  \n",
      "---  ------                       --------------   -----  \n",
      " 0   id_student                   139014 non-null  int64  \n",
      " 1   week                         139014 non-null  int64  \n",
      " 2   code_module                  139014 non-null  object \n",
      " 3   final_result                 139014 non-null  object \n",
      " 4   total_clicks                 139014 non-null  int64  \n",
      " 5   interaction_count            139014 non-null  int64  \n",
      " 6   assessment_type              139014 non-null  object \n",
      " 7   date                         136587 non-null  float64\n",
      " 8   weight                       139014 non-null  float64\n",
      " 9   date_submitted               139014 non-null  float64\n",
      " 10  is_banked                    139014 non-null  int64  \n",
      " 11  score                        139014 non-null  float64\n",
      " 12  date_registration            139011 non-null  float64\n",
      " 13  gender                       139014 non-null  object \n",
      " 14  region                       139014 non-null  object \n",
      " 15  highest_education            139014 non-null  object \n",
      " 16  imd_band                     132827 non-null  object \n",
      " 17  age_band                     139014 non-null  object \n",
      " 18  num_of_prev_attempts         139014 non-null  float64\n",
      " 19  studied_credits              139014 non-null  float64\n",
      " 20  disability                   139014 non-null  object \n",
      " 21  module_presentation_length   139014 non-null  float64\n",
      " 22  assessment_engagement_score  139014 non-null  float64\n",
      " 23  submission_timeliness        136587 non-null  float64\n",
      " 24  module_engagement_rate       139014 non-null  float64\n",
      "dtypes: float64(11), int64(5), object(9)\n",
      "memory usage: 26.5+ MB\n"
     ]
    }
   ],
   "source": [
    "summary_df.info()"
   ]
  },
  {
   "cell_type": "code",
   "execution_count": 29,
   "metadata": {
    "colab": {
     "base_uri": "https://localhost:8080/",
     "height": 226
    },
    "executionInfo": {
     "elapsed": 103,
     "status": "ok",
     "timestamp": 1747654971656,
     "user": {
      "displayName": "vimah solomon",
      "userId": "01562546007161635428"
     },
     "user_tz": -60
    },
    "id": "o80hq_ppYET5",
    "outputId": "1eda9dc5-2648-42d6-8733-2aba95285df5"
   },
   "outputs": [
    {
     "data": {
      "text/html": [
       "<div>\n",
       "<style scoped>\n",
       "    .dataframe tbody tr th:only-of-type {\n",
       "        vertical-align: middle;\n",
       "    }\n",
       "\n",
       "    .dataframe tbody tr th {\n",
       "        vertical-align: top;\n",
       "    }\n",
       "\n",
       "    .dataframe thead th {\n",
       "        text-align: right;\n",
       "    }\n",
       "</style>\n",
       "<table border=\"1\" class=\"dataframe\">\n",
       "  <thead>\n",
       "    <tr style=\"text-align: right;\">\n",
       "      <th></th>\n",
       "      <th>week</th>\n",
       "      <th>total_clicks</th>\n",
       "      <th>interaction_count</th>\n",
       "      <th>date</th>\n",
       "      <th>weight</th>\n",
       "      <th>date_submitted</th>\n",
       "      <th>is_banked</th>\n",
       "      <th>score</th>\n",
       "      <th>date_registration</th>\n",
       "      <th>num_of_prev_attempts</th>\n",
       "      <th>studied_credits</th>\n",
       "      <th>module_presentation_length</th>\n",
       "      <th>assessment_engagement_score</th>\n",
       "      <th>submission_timeliness</th>\n",
       "      <th>module_engagement_rate</th>\n",
       "    </tr>\n",
       "  </thead>\n",
       "  <tbody>\n",
       "    <tr>\n",
       "      <th>0</th>\n",
       "      <td>0.076923</td>\n",
       "      <td>0.003961</td>\n",
       "      <td>0.011439</td>\n",
       "      <td>0.072797</td>\n",
       "      <td>0.1</td>\n",
       "      <td>0.096552</td>\n",
       "      <td>0.0</td>\n",
       "      <td>0.60</td>\n",
       "      <td>0.628641</td>\n",
       "      <td>0.0</td>\n",
       "      <td>0.05</td>\n",
       "      <td>1.0</td>\n",
       "      <td>0.002476</td>\n",
       "      <td>0.580952</td>\n",
       "      <td>0.026556</td>\n",
       "    </tr>\n",
       "    <tr>\n",
       "      <th>1</th>\n",
       "      <td>0.205128</td>\n",
       "      <td>0.004672</td>\n",
       "      <td>0.014449</td>\n",
       "      <td>0.206897</td>\n",
       "      <td>0.2</td>\n",
       "      <td>0.213793</td>\n",
       "      <td>0.0</td>\n",
       "      <td>0.48</td>\n",
       "      <td>0.628641</td>\n",
       "      <td>0.0</td>\n",
       "      <td>0.05</td>\n",
       "      <td>1.0</td>\n",
       "      <td>0.007414</td>\n",
       "      <td>0.578571</td>\n",
       "      <td>0.053830</td>\n",
       "    </tr>\n",
       "    <tr>\n",
       "      <th>2</th>\n",
       "      <td>0.435897</td>\n",
       "      <td>0.003809</td>\n",
       "      <td>0.013847</td>\n",
       "      <td>0.448276</td>\n",
       "      <td>0.2</td>\n",
       "      <td>0.437931</td>\n",
       "      <td>0.0</td>\n",
       "      <td>0.63</td>\n",
       "      <td>0.628641</td>\n",
       "      <td>0.0</td>\n",
       "      <td>0.05</td>\n",
       "      <td>1.0</td>\n",
       "      <td>0.001689</td>\n",
       "      <td>0.583333</td>\n",
       "      <td>0.020934</td>\n",
       "    </tr>\n",
       "    <tr>\n",
       "      <th>3</th>\n",
       "      <td>0.615385</td>\n",
       "      <td>0.005180</td>\n",
       "      <td>0.011439</td>\n",
       "      <td>0.636015</td>\n",
       "      <td>0.2</td>\n",
       "      <td>0.603448</td>\n",
       "      <td>0.0</td>\n",
       "      <td>0.61</td>\n",
       "      <td>0.628641</td>\n",
       "      <td>0.0</td>\n",
       "      <td>0.05</td>\n",
       "      <td>1.0</td>\n",
       "      <td>0.003291</td>\n",
       "      <td>0.580952</td>\n",
       "      <td>0.035169</td>\n",
       "    </tr>\n",
       "    <tr>\n",
       "      <th>4</th>\n",
       "      <td>0.794872</td>\n",
       "      <td>0.002743</td>\n",
       "      <td>0.009031</td>\n",
       "      <td>0.823755</td>\n",
       "      <td>0.3</td>\n",
       "      <td>0.762069</td>\n",
       "      <td>0.0</td>\n",
       "      <td>0.77</td>\n",
       "      <td>0.628641</td>\n",
       "      <td>0.0</td>\n",
       "      <td>0.05</td>\n",
       "      <td>1.0</td>\n",
       "      <td>0.000974</td>\n",
       "      <td>0.573810</td>\n",
       "      <td>0.014654</td>\n",
       "    </tr>\n",
       "  </tbody>\n",
       "</table>\n",
       "</div>"
      ],
      "text/plain": [
       "       week  total_clicks  interaction_count      date  weight  \\\n",
       "0  0.076923      0.003961           0.011439  0.072797     0.1   \n",
       "1  0.205128      0.004672           0.014449  0.206897     0.2   \n",
       "2  0.435897      0.003809           0.013847  0.448276     0.2   \n",
       "3  0.615385      0.005180           0.011439  0.636015     0.2   \n",
       "4  0.794872      0.002743           0.009031  0.823755     0.3   \n",
       "\n",
       "   date_submitted  is_banked  score  date_registration  num_of_prev_attempts  \\\n",
       "0        0.096552        0.0   0.60           0.628641                   0.0   \n",
       "1        0.213793        0.0   0.48           0.628641                   0.0   \n",
       "2        0.437931        0.0   0.63           0.628641                   0.0   \n",
       "3        0.603448        0.0   0.61           0.628641                   0.0   \n",
       "4        0.762069        0.0   0.77           0.628641                   0.0   \n",
       "\n",
       "   studied_credits  module_presentation_length  assessment_engagement_score  \\\n",
       "0             0.05                         1.0                     0.002476   \n",
       "1             0.05                         1.0                     0.007414   \n",
       "2             0.05                         1.0                     0.001689   \n",
       "3             0.05                         1.0                     0.003291   \n",
       "4             0.05                         1.0                     0.000974   \n",
       "\n",
       "   submission_timeliness  module_engagement_rate  \n",
       "0               0.580952                0.026556  \n",
       "1               0.578571                0.053830  \n",
       "2               0.583333                0.020934  \n",
       "3               0.580952                0.035169  \n",
       "4               0.573810                0.014654  "
      ]
     },
     "execution_count": 29,
     "metadata": {},
     "output_type": "execute_result"
    }
   ],
   "source": [
    "# filling all numerical colums with missing data and also standardizing them.\n",
    "numerical_cols = summary_df.select_dtypes(include=[np.number]).columns\n",
    "\n",
    "numerical_data = summary_df[numerical_cols].copy()\n",
    "\n",
    "numerical_data.replace([np.inf, -np.inf], np.nan, inplace=True)\n",
    "numerical_data.fillna(0, inplace=True)\n",
    "\n",
    "scaler = MinMaxScaler()\n",
    "scaled_data = scaler.fit_transform(numerical_data)\n",
    "\n",
    "scaled_data_df = pd.DataFrame(scaled_data, columns=numerical_cols)\n",
    "scaled_data_df.drop(columns='id_student', inplace=True)\n",
    "scaled_data_df.head()"
   ]
  },
  {
   "cell_type": "code",
   "execution_count": 30,
   "metadata": {
    "executionInfo": {
     "elapsed": 29,
     "status": "ok",
     "timestamp": 1747654971688,
     "user": {
      "displayName": "vimah solomon",
      "userId": "01562546007161635428"
     },
     "user_tz": -60
    },
    "id": "JYHJOTX0enUm"
   },
   "outputs": [],
   "source": [
    "# Merging Categorical columns and numerical columns\n",
    "categorical_cols = summary_df.select_dtypes(exclude=[np.number]).columns\n",
    "categorical_data = summary_df[categorical_cols]\n"
   ]
  },
  {
   "cell_type": "code",
   "execution_count": 31,
   "metadata": {
    "executionInfo": {
     "elapsed": 18,
     "status": "ok",
     "timestamp": 1747654971709,
     "user": {
      "displayName": "vimah solomon",
      "userId": "01562546007161635428"
     },
     "user_tz": -60
    },
    "id": "EXKe0LD03zUr"
   },
   "outputs": [],
   "source": [
    "# prompt: generate a code that categorizes the final_result column in new_standard to just 1 and 0\n",
    "categorical_data['final_result'] = categorical_data['final_result'].map({'Pass': 1, 'Distinction': 1, 'Withdrawn': 0, 'Fail':0})\n",
    "\n",
    "# Handle potential NaN values (optional): fill NaN values with a specific value, e.g. 0\n",
    "categorical_data['final_result'].fillna(0, inplace=True)"
   ]
  },
  {
   "cell_type": "code",
   "execution_count": 32,
   "metadata": {
    "colab": {
     "base_uri": "https://localhost:8080/",
     "height": 206
    },
    "executionInfo": {
     "elapsed": 221,
     "status": "ok",
     "timestamp": 1747654971936,
     "user": {
      "displayName": "vimah solomon",
      "userId": "01562546007161635428"
     },
     "user_tz": -60
    },
    "id": "7XoMD42dfgQz",
    "outputId": "932362db-a8d0-427c-8baf-3343653f060c"
   },
   "outputs": [
    {
     "data": {
      "text/html": [
       "<div>\n",
       "<style scoped>\n",
       "    .dataframe tbody tr th:only-of-type {\n",
       "        vertical-align: middle;\n",
       "    }\n",
       "\n",
       "    .dataframe tbody tr th {\n",
       "        vertical-align: top;\n",
       "    }\n",
       "\n",
       "    .dataframe thead th {\n",
       "        text-align: right;\n",
       "    }\n",
       "</style>\n",
       "<table border=\"1\" class=\"dataframe\">\n",
       "  <thead>\n",
       "    <tr style=\"text-align: right;\">\n",
       "      <th></th>\n",
       "      <th>code_module</th>\n",
       "      <th>final_result</th>\n",
       "      <th>assessment_type</th>\n",
       "      <th>gender</th>\n",
       "      <th>region</th>\n",
       "      <th>highest_education</th>\n",
       "      <th>imd_band</th>\n",
       "      <th>age_band</th>\n",
       "      <th>disability</th>\n",
       "    </tr>\n",
       "  </thead>\n",
       "  <tbody>\n",
       "    <tr>\n",
       "      <th>0</th>\n",
       "      <td>0</td>\n",
       "      <td>1</td>\n",
       "      <td>2</td>\n",
       "      <td>1</td>\n",
       "      <td>6</td>\n",
       "      <td>1</td>\n",
       "      <td>8</td>\n",
       "      <td>1</td>\n",
       "      <td>0</td>\n",
       "    </tr>\n",
       "    <tr>\n",
       "      <th>1</th>\n",
       "      <td>0</td>\n",
       "      <td>1</td>\n",
       "      <td>2</td>\n",
       "      <td>1</td>\n",
       "      <td>6</td>\n",
       "      <td>1</td>\n",
       "      <td>8</td>\n",
       "      <td>1</td>\n",
       "      <td>0</td>\n",
       "    </tr>\n",
       "    <tr>\n",
       "      <th>2</th>\n",
       "      <td>0</td>\n",
       "      <td>1</td>\n",
       "      <td>2</td>\n",
       "      <td>1</td>\n",
       "      <td>6</td>\n",
       "      <td>1</td>\n",
       "      <td>8</td>\n",
       "      <td>1</td>\n",
       "      <td>0</td>\n",
       "    </tr>\n",
       "    <tr>\n",
       "      <th>3</th>\n",
       "      <td>0</td>\n",
       "      <td>1</td>\n",
       "      <td>2</td>\n",
       "      <td>1</td>\n",
       "      <td>6</td>\n",
       "      <td>1</td>\n",
       "      <td>8</td>\n",
       "      <td>1</td>\n",
       "      <td>0</td>\n",
       "    </tr>\n",
       "    <tr>\n",
       "      <th>4</th>\n",
       "      <td>0</td>\n",
       "      <td>1</td>\n",
       "      <td>2</td>\n",
       "      <td>1</td>\n",
       "      <td>6</td>\n",
       "      <td>1</td>\n",
       "      <td>8</td>\n",
       "      <td>1</td>\n",
       "      <td>0</td>\n",
       "    </tr>\n",
       "  </tbody>\n",
       "</table>\n",
       "</div>"
      ],
      "text/plain": [
       "   code_module  final_result  assessment_type  gender  region  \\\n",
       "0            0             1                2       1       6   \n",
       "1            0             1                2       1       6   \n",
       "2            0             1                2       1       6   \n",
       "3            0             1                2       1       6   \n",
       "4            0             1                2       1       6   \n",
       "\n",
       "   highest_education  imd_band  age_band  disability  \n",
       "0                  1         8         1           0  \n",
       "1                  1         8         1           0  \n",
       "2                  1         8         1           0  \n",
       "3                  1         8         1           0  \n",
       "4                  1         8         1           0  "
      ]
     },
     "execution_count": 32,
     "metadata": {},
     "output_type": "execute_result"
    }
   ],
   "source": [
    "# Encoding the categorical columns\n",
    "\n",
    "from sklearn.preprocessing import LabelEncoder\n",
    "\n",
    "# Create a LabelEncoder object\n",
    "le = LabelEncoder()\n",
    "\n",
    "# Iterate through each column in categorical_data\n",
    "for col in categorical_data.columns:\n",
    "  # Fit and transform the column using LabelEncoder\n",
    "  categorical_data[col] = le.fit_transform(categorical_data[col])\n",
    "\n",
    "categorical_data.head()\n"
   ]
  },
  {
   "cell_type": "code",
   "execution_count": 33,
   "metadata": {
    "colab": {
     "base_uri": "https://localhost:8080/",
     "height": 255
    },
    "executionInfo": {
     "elapsed": 58,
     "status": "ok",
     "timestamp": 1747654971992,
     "user": {
      "displayName": "vimah solomon",
      "userId": "01562546007161635428"
     },
     "user_tz": -60
    },
    "id": "JaCSIj2SiKnT",
    "outputId": "384f3418-c938-44b0-c561-b20c926615cc"
   },
   "outputs": [
    {
     "data": {
      "text/html": [
       "<div>\n",
       "<style scoped>\n",
       "    .dataframe tbody tr th:only-of-type {\n",
       "        vertical-align: middle;\n",
       "    }\n",
       "\n",
       "    .dataframe tbody tr th {\n",
       "        vertical-align: top;\n",
       "    }\n",
       "\n",
       "    .dataframe thead th {\n",
       "        text-align: right;\n",
       "    }\n",
       "</style>\n",
       "<table border=\"1\" class=\"dataframe\">\n",
       "  <thead>\n",
       "    <tr style=\"text-align: right;\">\n",
       "      <th></th>\n",
       "      <th>week</th>\n",
       "      <th>total_clicks</th>\n",
       "      <th>interaction_count</th>\n",
       "      <th>date</th>\n",
       "      <th>weight</th>\n",
       "      <th>date_submitted</th>\n",
       "      <th>is_banked</th>\n",
       "      <th>score</th>\n",
       "      <th>date_registration</th>\n",
       "      <th>num_of_prev_attempts</th>\n",
       "      <th>...</th>\n",
       "      <th>module_engagement_rate</th>\n",
       "      <th>code_module</th>\n",
       "      <th>final_result</th>\n",
       "      <th>assessment_type</th>\n",
       "      <th>gender</th>\n",
       "      <th>region</th>\n",
       "      <th>highest_education</th>\n",
       "      <th>imd_band</th>\n",
       "      <th>age_band</th>\n",
       "      <th>disability</th>\n",
       "    </tr>\n",
       "  </thead>\n",
       "  <tbody>\n",
       "    <tr>\n",
       "      <th>0</th>\n",
       "      <td>0.076923</td>\n",
       "      <td>0.003961</td>\n",
       "      <td>0.011439</td>\n",
       "      <td>0.072797</td>\n",
       "      <td>0.1</td>\n",
       "      <td>0.096552</td>\n",
       "      <td>0.0</td>\n",
       "      <td>0.60</td>\n",
       "      <td>0.628641</td>\n",
       "      <td>0.0</td>\n",
       "      <td>...</td>\n",
       "      <td>0.026556</td>\n",
       "      <td>0</td>\n",
       "      <td>1</td>\n",
       "      <td>2</td>\n",
       "      <td>1</td>\n",
       "      <td>6</td>\n",
       "      <td>1</td>\n",
       "      <td>8</td>\n",
       "      <td>1</td>\n",
       "      <td>0</td>\n",
       "    </tr>\n",
       "    <tr>\n",
       "      <th>1</th>\n",
       "      <td>0.205128</td>\n",
       "      <td>0.004672</td>\n",
       "      <td>0.014449</td>\n",
       "      <td>0.206897</td>\n",
       "      <td>0.2</td>\n",
       "      <td>0.213793</td>\n",
       "      <td>0.0</td>\n",
       "      <td>0.48</td>\n",
       "      <td>0.628641</td>\n",
       "      <td>0.0</td>\n",
       "      <td>...</td>\n",
       "      <td>0.053830</td>\n",
       "      <td>0</td>\n",
       "      <td>1</td>\n",
       "      <td>2</td>\n",
       "      <td>1</td>\n",
       "      <td>6</td>\n",
       "      <td>1</td>\n",
       "      <td>8</td>\n",
       "      <td>1</td>\n",
       "      <td>0</td>\n",
       "    </tr>\n",
       "    <tr>\n",
       "      <th>2</th>\n",
       "      <td>0.435897</td>\n",
       "      <td>0.003809</td>\n",
       "      <td>0.013847</td>\n",
       "      <td>0.448276</td>\n",
       "      <td>0.2</td>\n",
       "      <td>0.437931</td>\n",
       "      <td>0.0</td>\n",
       "      <td>0.63</td>\n",
       "      <td>0.628641</td>\n",
       "      <td>0.0</td>\n",
       "      <td>...</td>\n",
       "      <td>0.020934</td>\n",
       "      <td>0</td>\n",
       "      <td>1</td>\n",
       "      <td>2</td>\n",
       "      <td>1</td>\n",
       "      <td>6</td>\n",
       "      <td>1</td>\n",
       "      <td>8</td>\n",
       "      <td>1</td>\n",
       "      <td>0</td>\n",
       "    </tr>\n",
       "    <tr>\n",
       "      <th>3</th>\n",
       "      <td>0.615385</td>\n",
       "      <td>0.005180</td>\n",
       "      <td>0.011439</td>\n",
       "      <td>0.636015</td>\n",
       "      <td>0.2</td>\n",
       "      <td>0.603448</td>\n",
       "      <td>0.0</td>\n",
       "      <td>0.61</td>\n",
       "      <td>0.628641</td>\n",
       "      <td>0.0</td>\n",
       "      <td>...</td>\n",
       "      <td>0.035169</td>\n",
       "      <td>0</td>\n",
       "      <td>1</td>\n",
       "      <td>2</td>\n",
       "      <td>1</td>\n",
       "      <td>6</td>\n",
       "      <td>1</td>\n",
       "      <td>8</td>\n",
       "      <td>1</td>\n",
       "      <td>0</td>\n",
       "    </tr>\n",
       "    <tr>\n",
       "      <th>4</th>\n",
       "      <td>0.794872</td>\n",
       "      <td>0.002743</td>\n",
       "      <td>0.009031</td>\n",
       "      <td>0.823755</td>\n",
       "      <td>0.3</td>\n",
       "      <td>0.762069</td>\n",
       "      <td>0.0</td>\n",
       "      <td>0.77</td>\n",
       "      <td>0.628641</td>\n",
       "      <td>0.0</td>\n",
       "      <td>...</td>\n",
       "      <td>0.014654</td>\n",
       "      <td>0</td>\n",
       "      <td>1</td>\n",
       "      <td>2</td>\n",
       "      <td>1</td>\n",
       "      <td>6</td>\n",
       "      <td>1</td>\n",
       "      <td>8</td>\n",
       "      <td>1</td>\n",
       "      <td>0</td>\n",
       "    </tr>\n",
       "  </tbody>\n",
       "</table>\n",
       "<p>5 rows × 24 columns</p>\n",
       "</div>"
      ],
      "text/plain": [
       "       week  total_clicks  interaction_count      date  weight  \\\n",
       "0  0.076923      0.003961           0.011439  0.072797     0.1   \n",
       "1  0.205128      0.004672           0.014449  0.206897     0.2   \n",
       "2  0.435897      0.003809           0.013847  0.448276     0.2   \n",
       "3  0.615385      0.005180           0.011439  0.636015     0.2   \n",
       "4  0.794872      0.002743           0.009031  0.823755     0.3   \n",
       "\n",
       "   date_submitted  is_banked  score  date_registration  num_of_prev_attempts  \\\n",
       "0        0.096552        0.0   0.60           0.628641                   0.0   \n",
       "1        0.213793        0.0   0.48           0.628641                   0.0   \n",
       "2        0.437931        0.0   0.63           0.628641                   0.0   \n",
       "3        0.603448        0.0   0.61           0.628641                   0.0   \n",
       "4        0.762069        0.0   0.77           0.628641                   0.0   \n",
       "\n",
       "   ...  module_engagement_rate  code_module  final_result  assessment_type  \\\n",
       "0  ...                0.026556            0             1                2   \n",
       "1  ...                0.053830            0             1                2   \n",
       "2  ...                0.020934            0             1                2   \n",
       "3  ...                0.035169            0             1                2   \n",
       "4  ...                0.014654            0             1                2   \n",
       "\n",
       "   gender  region  highest_education  imd_band  age_band  disability  \n",
       "0       1       6                  1         8         1           0  \n",
       "1       1       6                  1         8         1           0  \n",
       "2       1       6                  1         8         1           0  \n",
       "3       1       6                  1         8         1           0  \n",
       "4       1       6                  1         8         1           0  \n",
       "\n",
       "[5 rows x 24 columns]"
      ]
     },
     "execution_count": 33,
     "metadata": {},
     "output_type": "execute_result"
    }
   ],
   "source": [
    "standard_data = pd.concat([scaled_data_df, categorical_data], axis=1)\n",
    "standard_data.head()"
   ]
  },
  {
   "cell_type": "code",
   "execution_count": 34,
   "metadata": {
    "colab": {
     "base_uri": "https://localhost:8080/",
     "height": 1000
    },
    "executionInfo": {
     "elapsed": 3630,
     "status": "ok",
     "timestamp": 1747654975623,
     "user": {
      "displayName": "vimah solomon",
      "userId": "01562546007161635428"
     },
     "user_tz": -60
    },
    "id": "m4MatNE3B4EA",
    "outputId": "db92687b-cce0-45ed-cfc2-9f7088a7d2db"
   },
   "outputs": [
    {
     "ename": "ModuleNotFoundError",
     "evalue": "No module named 'seaborn'",
     "output_type": "error",
     "traceback": [
      "\u001b[31m---------------------------------------------------------------------------\u001b[39m",
      "\u001b[31mModuleNotFoundError\u001b[39m                       Traceback (most recent call last)",
      "\u001b[36mCell\u001b[39m\u001b[36m \u001b[39m\u001b[32mIn[34]\u001b[39m\u001b[32m, line 2\u001b[39m\n\u001b[32m      1\u001b[39m \u001b[38;5;28;01mimport\u001b[39;00m\u001b[38;5;250m \u001b[39m\u001b[34;01mmatplotlib\u001b[39;00m\u001b[34;01m.\u001b[39;00m\u001b[34;01mpyplot\u001b[39;00m\u001b[38;5;250m \u001b[39m\u001b[38;5;28;01mas\u001b[39;00m\u001b[38;5;250m \u001b[39m\u001b[34;01mplt\u001b[39;00m\n\u001b[32m----> \u001b[39m\u001b[32m2\u001b[39m \u001b[38;5;28;01mimport\u001b[39;00m\u001b[38;5;250m \u001b[39m\u001b[34;01mseaborn\u001b[39;00m\u001b[38;5;250m \u001b[39m\u001b[38;5;28;01mas\u001b[39;00m\u001b[38;5;250m \u001b[39m\u001b[34;01msns\u001b[39;00m\n\u001b[32m      3\u001b[39m plt.figure(figsize=(\u001b[32m14\u001b[39m, \u001b[32m10\u001b[39m))\n\u001b[32m      4\u001b[39m sns.heatmap(standard_data.corr(), annot=\u001b[38;5;28;01mTrue\u001b[39;00m, cmap=\u001b[33m'\u001b[39m\u001b[33mcoolwarm\u001b[39m\u001b[33m'\u001b[39m)\n",
      "\u001b[31mModuleNotFoundError\u001b[39m: No module named 'seaborn'"
     ]
    }
   ],
   "source": [
    "import matplotlib.pyplot as plt\n",
    "import seaborn as sns\n",
    "plt.figure(figsize=(14, 10))\n",
    "sns.heatmap(standard_data.corr(), annot=True, cmap='coolwarm')\n",
    "plt.title('Correlation Heatmap of Features')\n",
    "plt.show()"
   ]
  },
  {
   "cell_type": "markdown",
   "metadata": {},
   "source": []
  },
  {
   "cell_type": "code",
   "execution_count": null,
   "metadata": {
    "colab": {
     "base_uri": "https://localhost:8080/",
     "height": 836
    },
    "executionInfo": {
     "elapsed": 6,
     "status": "ok",
     "timestamp": 1747654975635,
     "user": {
      "displayName": "vimah solomon",
      "userId": "01562546007161635428"
     },
     "user_tz": -60
    },
    "id": "2cX3bR1pdr32",
    "outputId": "3b5b393e-0ed8-48ec-ce44-f6e8df944667"
   },
   "outputs": [],
   "source": [
    "# prompt: generate a code to show correlation in ascending order\n",
    "\n",
    "correlation_matrix = standard_data.corr()\n",
    "correlation_with_result = correlation_matrix['final_result'].sort_values(ascending=True)\n",
    "\n",
    "correlation_with_result"
   ]
  },
  {
   "cell_type": "code",
   "execution_count": null,
   "metadata": {
    "colab": {
     "base_uri": "https://localhost:8080/"
    },
    "executionInfo": {
     "elapsed": 18,
     "status": "ok",
     "timestamp": 1747654975659,
     "user": {
      "displayName": "vimah solomon",
      "userId": "01562546007161635428"
     },
     "user_tz": -60
    },
    "id": "nPOZWKCQ3EaC",
    "outputId": "04127ac8-f23d-4814-a345-7dbde2967e13"
   },
   "outputs": [],
   "source": [
    "standard_data['final_result'].unique()"
   ]
  },
  {
   "cell_type": "code",
   "execution_count": null,
   "metadata": {
    "executionInfo": {
     "elapsed": 3,
     "status": "ok",
     "timestamp": 1747654975664,
     "user": {
      "displayName": "vimah solomon",
      "userId": "01562546007161635428"
     },
     "user_tz": -60
    },
    "id": "shM-NCTf0p_e"
   },
   "outputs": [],
   "source": [
    "new_standard = standard_data.copy()"
   ]
  },
  {
   "cell_type": "code",
   "execution_count": null,
   "metadata": {
    "executionInfo": {
     "elapsed": 9,
     "status": "ok",
     "timestamp": 1747654975676,
     "user": {
      "displayName": "vimah solomon",
      "userId": "01562546007161635428"
     },
     "user_tz": -60
    },
    "id": "pzxtUMgx0yhk"
   },
   "outputs": [],
   "source": [
    "# prompt: generate a code that categorizes the final_result column in new_standard to just 1 and 0\n",
    "#new_standard['final_result'] = new_standard['final_result'].map({'Pass': 1, 'Distinction': 1, 'Withdrawn': 0, 'Fail':0})\n",
    "\n",
    "# Handle potential NaN values (optional): fill NaN values with a specific value, e.g. 0\n",
    "#new_standard['final_result'].fillna(0, inplace=True)"
   ]
  },
  {
   "cell_type": "code",
   "execution_count": null,
   "metadata": {
    "executionInfo": {
     "elapsed": 6,
     "status": "ok",
     "timestamp": 1747654975679,
     "user": {
      "displayName": "vimah solomon",
      "userId": "01562546007161635428"
     },
     "user_tz": -60
    },
    "id": "xUkQjrLoupQM"
   },
   "outputs": [],
   "source": [
    "from re import X\n",
    "# Separating the dependent variable from the independent variables\n",
    "X = new_standard.drop(columns=['final_result'])\n",
    "y = new_standard['final_result']"
   ]
  },
  {
   "cell_type": "code",
   "execution_count": null,
   "metadata": {
    "executionInfo": {
     "elapsed": 6,
     "status": "ok",
     "timestamp": 1747654975684,
     "user": {
      "displayName": "vimah solomon",
      "userId": "01562546007161635428"
     },
     "user_tz": -60
    },
    "id": "D_ye4kxvvBzh"
   },
   "outputs": [],
   "source": [
    "# Split the data into training and testing sets\n",
    "X_train, X_test, y_train, y_test = train_test_split(X, y, test_size=0.3, random_state=42)"
   ]
  },
  {
   "cell_type": "code",
   "execution_count": null,
   "metadata": {
    "colab": {
     "base_uri": "https://localhost:8080/",
     "height": 80
    },
    "executionInfo": {
     "elapsed": 26770,
     "status": "ok",
     "timestamp": 1747655002451,
     "user": {
      "displayName": "vimah solomon",
      "userId": "01562546007161635428"
     },
     "user_tz": -60
    },
    "id": "XyjwvXNmxKVx",
    "outputId": "9b0f4094-b292-4aef-fca5-7814aa8f2da4"
   },
   "outputs": [],
   "source": [
    "# Random Forest CLassifier\n",
    "rf_classifier = RandomForestClassifier(n_estimators=100, random_state=42)\n",
    "\n",
    "# Train the model\n",
    "rf_classifier.fit(X_train, y_train)"
   ]
  },
  {
   "cell_type": "code",
   "execution_count": null,
   "metadata": {
    "executionInfo": {
     "elapsed": 1703,
     "status": "ok",
     "timestamp": 1747655004150,
     "user": {
      "displayName": "vimah solomon",
      "userId": "01562546007161635428"
     },
     "user_tz": -60
    },
    "id": "YVSWhtZdy0h4"
   },
   "outputs": [],
   "source": [
    "# Make predictions on the test set\n",
    "y_pred = rf_classifier.predict(X_test)"
   ]
  },
  {
   "cell_type": "code",
   "execution_count": null,
   "metadata": {
    "colab": {
     "base_uri": "https://localhost:8080/"
    },
    "executionInfo": {
     "elapsed": 25,
     "status": "ok",
     "timestamp": 1747655004177,
     "user": {
      "displayName": "vimah solomon",
      "userId": "01562546007161635428"
     },
     "user_tz": -60
    },
    "id": "1w46d2Scy5nv",
    "outputId": "8db20fde-1f42-4843-b67a-b37a14de074b"
   },
   "outputs": [],
   "source": [
    "# Evaluate the model\n",
    "accuracy = accuracy_score(y_test, y_pred)\n",
    "print(f\"Accuracy: {accuracy}\")"
   ]
  },
  {
   "cell_type": "code",
   "execution_count": null,
   "metadata": {
    "colab": {
     "base_uri": "https://localhost:8080/"
    },
    "executionInfo": {
     "elapsed": 24,
     "status": "ok",
     "timestamp": 1747655004200,
     "user": {
      "displayName": "vimah solomon",
      "userId": "01562546007161635428"
     },
     "user_tz": -60
    },
    "id": "mBHaHpNezHgj",
    "outputId": "b113756a-dc41-4770-e0ff-5c6d3e8c5175"
   },
   "outputs": [],
   "source": [
    "print(\"Confusion Matrix:\")\n",
    "print(confusion_matrix(y_test, y_pred))"
   ]
  },
  {
   "cell_type": "code",
   "execution_count": null,
   "metadata": {
    "colab": {
     "base_uri": "https://localhost:8080/"
    },
    "executionInfo": {
     "elapsed": 26,
     "status": "ok",
     "timestamp": 1747655004228,
     "user": {
      "displayName": "vimah solomon",
      "userId": "01562546007161635428"
     },
     "user_tz": -60
    },
    "id": "pRC9DnTh6TSo",
    "outputId": "d453f009-88ad-426e-81ff-fb5c48bf0573"
   },
   "outputs": [],
   "source": [
    "# Print the classification report\n",
    "print(\"Classification Report:\")\n",
    "print(classification_report(y_test, y_pred))"
   ]
  },
  {
   "cell_type": "code",
   "execution_count": null,
   "metadata": {
    "executionInfo": {
     "elapsed": 4,
     "status": "ok",
     "timestamp": 1747655004234,
     "user": {
      "displayName": "vimah solomon",
      "userId": "01562546007161635428"
     },
     "user_tz": -60
    },
    "id": "15afJaFP6ecw"
   },
   "outputs": [],
   "source": [
    "# Create a Logistic Regression model\n",
    "logreg_model = LogisticRegression(random_state=42)"
   ]
  },
  {
   "cell_type": "code",
   "execution_count": null,
   "metadata": {
    "colab": {
     "base_uri": "https://localhost:8080/",
     "height": 80
    },
    "executionInfo": {
     "elapsed": 3394,
     "status": "ok",
     "timestamp": 1747655007645,
     "user": {
      "displayName": "vimah solomon",
      "userId": "01562546007161635428"
     },
     "user_tz": -60
    },
    "id": "yI5GpKv-6i4t",
    "outputId": "05ec5253-aab5-4fda-99fd-0f62f91d1172"
   },
   "outputs": [],
   "source": [
    "# Train the model\n",
    "logreg_model.fit(X_train, y_train)"
   ]
  },
  {
   "cell_type": "code",
   "execution_count": null,
   "metadata": {
    "executionInfo": {
     "elapsed": 23,
     "status": "ok",
     "timestamp": 1747655007671,
     "user": {
      "displayName": "vimah solomon",
      "userId": "01562546007161635428"
     },
     "user_tz": -60
    },
    "id": "F3sDmlqm6qvM"
   },
   "outputs": [],
   "source": [
    "# Make predictions on the test set\n",
    "y_pred_logreg = logreg_model.predict(X_test)"
   ]
  },
  {
   "cell_type": "code",
   "execution_count": null,
   "metadata": {
    "colab": {
     "base_uri": "https://localhost:8080/"
    },
    "executionInfo": {
     "elapsed": 35,
     "status": "ok",
     "timestamp": 1747655007708,
     "user": {
      "displayName": "vimah solomon",
      "userId": "01562546007161635428"
     },
     "user_tz": -60
    },
    "id": "OV5qz8Rc6vai",
    "outputId": "bc285dc0-cd9b-42b0-ff01-84035b044a60"
   },
   "outputs": [],
   "source": [
    "# Evaluate the model\n",
    "accuracy_logreg = accuracy_score(y_test, y_pred_logreg)\n",
    "print(f\"Logistic Regression Accuracy: {accuracy_logreg}\")"
   ]
  },
  {
   "cell_type": "code",
   "execution_count": null,
   "metadata": {
    "colab": {
     "base_uri": "https://localhost:8080/"
    },
    "executionInfo": {
     "elapsed": 25,
     "status": "ok",
     "timestamp": 1747655007736,
     "user": {
      "displayName": "vimah solomon",
      "userId": "01562546007161635428"
     },
     "user_tz": -60
    },
    "id": "kmE3pRytzc7n",
    "outputId": "44e8b41e-6053-496b-bdd4-c8087f8dbf56"
   },
   "outputs": [],
   "source": [
    "# Print the confusion matrix\n",
    "print(\"Logistic Regression Confusion Matrix:\")\n",
    "print(confusion_matrix(y_test, y_pred_logreg))"
   ]
  },
  {
   "cell_type": "code",
   "execution_count": null,
   "metadata": {
    "colab": {
     "base_uri": "https://localhost:8080/"
    },
    "executionInfo": {
     "elapsed": 31,
     "status": "ok",
     "timestamp": 1747655007769,
     "user": {
      "displayName": "vimah solomon",
      "userId": "01562546007161635428"
     },
     "user_tz": -60
    },
    "id": "lSDb2xJjzd_j",
    "outputId": "aad64614-138a-4815-fc1e-0fa0f34ea1d9"
   },
   "outputs": [],
   "source": [
    "# Print the classification report\n",
    "print(\"Logistic Regression Classification Report:\")\n",
    "print(classification_report(y_test, y_pred_logreg))"
   ]
  },
  {
   "cell_type": "code",
   "execution_count": null,
   "metadata": {
    "executionInfo": {
     "elapsed": 5,
     "status": "ok",
     "timestamp": 1747655007774,
     "user": {
      "displayName": "vimah solomon",
      "userId": "01562546007161635428"
     },
     "user_tz": -60
    },
    "id": "5YdydQILuz7u"
   },
   "outputs": [],
   "source": [
    "\n",
    "from sklearn.tree import DecisionTreeClassifier\n",
    "\n",
    "# Create a Decision Tree Classifier model\n",
    "dt_classifier = DecisionTreeClassifier(random_state=42)"
   ]
  },
  {
   "cell_type": "code",
   "execution_count": null,
   "metadata": {
    "colab": {
     "base_uri": "https://localhost:8080/",
     "height": 80
    },
    "executionInfo": {
     "elapsed": 1829,
     "status": "ok",
     "timestamp": 1747655009639,
     "user": {
      "displayName": "vimah solomon",
      "userId": "01562546007161635428"
     },
     "user_tz": -60
    },
    "id": "UMx7I-AhvGg3",
    "outputId": "09dc6895-8c34-453f-94fc-ddfa84751261"
   },
   "outputs": [],
   "source": [
    "# Train the model\n",
    "dt_classifier.fit(X_train, y_train)"
   ]
  },
  {
   "cell_type": "code",
   "execution_count": null,
   "metadata": {
    "executionInfo": {
     "elapsed": 130,
     "status": "ok",
     "timestamp": 1747655009774,
     "user": {
      "displayName": "vimah solomon",
      "userId": "01562546007161635428"
     },
     "user_tz": -60
    },
    "id": "AnCGWJFKvKRZ"
   },
   "outputs": [],
   "source": [
    "# Make predictions on the test set\n",
    "y_pred_dt = dt_classifier.predict(X_test)"
   ]
  },
  {
   "cell_type": "code",
   "execution_count": null,
   "metadata": {
    "colab": {
     "base_uri": "https://localhost:8080/"
    },
    "executionInfo": {
     "elapsed": 209,
     "status": "ok",
     "timestamp": 1747655009990,
     "user": {
      "displayName": "vimah solomon",
      "userId": "01562546007161635428"
     },
     "user_tz": -60
    },
    "id": "d2sV9jVsvXvY",
    "outputId": "475d6206-af46-4aa9-ef38-8c336baf84f8"
   },
   "outputs": [],
   "source": [
    "# Evaluate the model\n",
    "accuracy_dt = accuracy_score(y_test, y_pred_dt)\n",
    "print(f\"Decision Tree Accuracy: {accuracy_dt}\")\n",
    "print(\"Confusion Matrix:\")\n",
    "print(confusion_matrix(y_test, y_pred_dt))\n",
    "# Print the classification report\n",
    "print(\"Classification Report:\")\n",
    "print(classification_report(y_test, y_pred_dt))"
   ]
  },
  {
   "cell_type": "code",
   "execution_count": null,
   "metadata": {
    "executionInfo": {
     "elapsed": 3,
     "status": "ok",
     "timestamp": 1747655009996,
     "user": {
      "displayName": "vimah solomon",
      "userId": "01562546007161635428"
     },
     "user_tz": -60
    },
    "id": "XKoDrJhr0CB0"
   },
   "outputs": [],
   "source": [
    "# Calculate metrics for each model\n",
    "def calculate_metrics(y_true, y_pred):\n",
    "  accuracy = accuracy_score(y_true, y_pred)\n",
    "  precision = precision_score(y_true, y_pred)\n",
    "  recall = recall_score(y_true, y_pred)\n",
    "  f1 = f1_score(y_true, y_pred)\n",
    "  return accuracy, precision, recall, f1\n",
    "\n",
    "rf_accuracy, rf_precision, rf_recall, rf_f1 = calculate_metrics(y_test, y_pred)\n",
    "dt_accuracy, dt_precision, dt_recall, dt_f1 = calculate_metrics(y_test, y_pred_dt)\n",
    "logreg_accuracy, logreg_precision, logreg_recall, logreg_f1 = calculate_metrics(y_test, y_pred_logreg)\n",
    "\n",
    "# Create a DataFrame to store the metrics\n",
    "metrics_df = pd.DataFrame({\n",
    "    'Model': ['Random Forest', 'Gradient Boosting', 'Logistic Regression'],\n",
    "    'Accuracy': [rf_accuracy, dt_accuracy, logreg_accuracy],\n",
    "    'Precision': [rf_precision, dt_precision, logreg_precision],\n",
    "    'Recall': [rf_recall, dt_recall, logreg_recall],\n",
    "    'F1-Score': [rf_f1, dt_f1, logreg_f1]\n",
    "})"
   ]
  },
  {
   "cell_type": "code",
   "execution_count": null,
   "metadata": {
    "colab": {
     "base_uri": "https://localhost:8080/",
     "height": 143
    },
    "executionInfo": {
     "elapsed": 8,
     "status": "ok",
     "timestamp": 1747655010006,
     "user": {
      "displayName": "vimah solomon",
      "userId": "01562546007161635428"
     },
     "user_tz": -60
    },
    "id": "0CuTQ1fj1zgC",
    "outputId": "2c9fb723-615d-4a31-f0e2-2a52065bdb61"
   },
   "outputs": [],
   "source": [
    "metrics_df"
   ]
  },
  {
   "cell_type": "code",
   "execution_count": null,
   "metadata": {
    "colab": {
     "base_uri": "https://localhost:8080/",
     "height": 770
    },
    "executionInfo": {
     "elapsed": 44,
     "status": "ok",
     "timestamp": 1747655010054,
     "user": {
      "displayName": "vimah solomon",
      "userId": "01562546007161635428"
     },
     "user_tz": -60
    },
    "id": "UrTFLFQ4vX6l",
    "outputId": "f2481dec-5acb-45c3-e0ed-839dddc83a07"
   },
   "outputs": [],
   "source": [
    "# Feature Importance\n",
    "importance = pd.concat([pd.DataFrame(X_train.columns),\n",
    "                          pd.DataFrame(np.transpose(rf_classifier.feature_importances_))], axis = 1)\n",
    "importance.columns = ['Features', 'Coeff']\n",
    "importance = importance.sort_values('Coeff', ascending=False)\n",
    "importance"
   ]
  },
  {
   "cell_type": "code",
   "execution_count": null,
   "metadata": {
    "colab": {
     "base_uri": "https://localhost:8080/",
     "height": 564
    },
    "executionInfo": {
     "elapsed": 94,
     "status": "ok",
     "timestamp": 1747655010150,
     "user": {
      "displayName": "vimah solomon",
      "userId": "01562546007161635428"
     },
     "user_tz": -60
    },
    "id": "HFgM9bK2-Bde",
    "outputId": "bcb03384-cda8-4b38-934f-6b77209ac2c0"
   },
   "outputs": [],
   "source": [
    "# prompt: generate a graph showing the performance of the three models\n",
    "\n",
    "import matplotlib.pyplot as plt\n",
    "# Melt the metrics DataFrame for easier plotting\n",
    "metrics_melted = metrics_df.melt(id_vars='Model', var_name='Metric', value_name='Score')\n",
    "\n",
    "# Create the bar plot\n",
    "plt.figure(figsize=(10, 6))\n",
    "sns.barplot(x='Metric', y='Score', hue='Model', data=metrics_melted)\n",
    "plt.title('Model Performance Comparison')\n",
    "plt.ylabel('Score')\n",
    "plt.ylim(0, 1) # Assuming scores are between 0 and 1\n",
    "plt.grid(axis='y')\n",
    "plt.show()"
   ]
  },
  {
   "cell_type": "code",
   "execution_count": null,
   "metadata": {
    "colab": {
     "base_uri": "https://localhost:8080/",
     "height": 521
    },
    "executionInfo": {
     "elapsed": 38,
     "status": "ok",
     "timestamp": 1747655010190,
     "user": {
      "displayName": "vimah solomon",
      "userId": "01562546007161635428"
     },
     "user_tz": -60
    },
    "id": "HjOHHeC__EZE",
    "outputId": "fdf02461-c854-40ae-8bbb-92a1efe7f64f"
   },
   "outputs": [],
   "source": [
    "# prompt: generate a pie chart showing the percentage of gender\n",
    "\n",
    "import matplotlib.pyplot as plt\n",
    "# Generate a pie chart for gender distribution\n",
    "gender_counts = Personal_data['gender'].value_counts()\n",
    "\n",
    "plt.figure(figsize=(6, 6))\n",
    "plt.pie(gender_counts, labels=gender_counts.index, autopct='%1.1f%%', startangle=90, colors=sns.color_palette('pastel'))\n",
    "plt.title('Distribution of Gender')\n",
    "plt.axis('equal')  # Equal aspect ratio ensures that pie is drawn as a circle.\n",
    "plt.show()"
   ]
  },
  {
   "cell_type": "code",
   "execution_count": null,
   "metadata": {
    "colab": {
     "base_uri": "https://localhost:8080/",
     "height": 34
    },
    "executionInfo": {
     "elapsed": 7145,
     "status": "ok",
     "timestamp": 1747655037791,
     "user": {
      "displayName": "vimah solomon",
      "userId": "01562546007161635428"
     },
     "user_tz": -60
    },
    "id": "e5FeN6gTyMoH",
    "outputId": "f6b8bd04-f9f3-4dc3-d4c8-6787dbdfc283"
   },
   "outputs": [],
   "source": [
    "# prompt: generate a code that will download the standard_data dataframe to a csv file\n",
    "from IPython.display import FileLink\n",
    "standard_data.to_csv('standard_data.csv', index=False)\n",
    "FileLink('standard_data.csv')"
   ]
  },
  {
   "cell_type": "code",
   "execution_count": null,
   "metadata": {
    "executionInfo": {
     "elapsed": 375123,
     "status": "aborted",
     "timestamp": 1747655013927,
     "user": {
      "displayName": "vimah solomon",
      "userId": "01562546007161635428"
     },
     "user_tz": -60
    },
    "id": "qyWf2jowypJB"
   },
   "outputs": [],
   "source": [
    "# prompt: generate a code that will download the standard_data dataframe to a csv file to lmy device\n",
    "\n",
    "from IPython.display import FileLink"
   ]
  }
 ],
 "metadata": {
  "colab": {
   "authorship_tag": "ABX9TyPayJ7PasLjSKiV/2mCQgz1",
   "mount_file_id": "1M8HWoCW68FCo3Z0IcFwv8w_Q5yBqmA5v",
   "provenance": []
  },
  "kernelspec": {
   "display_name": "Python 3",
   "name": "python3"
  },
  "language_info": {
   "codemirror_mode": {
    "name": "ipython",
    "version": 3
   },
   "file_extension": ".py",
   "mimetype": "text/x-python",
   "name": "python",
   "nbconvert_exporter": "python",
   "pygments_lexer": "ipython3",
   "version": "3.13.5"
  }
 },
 "nbformat": 4,
 "nbformat_minor": 0
}
